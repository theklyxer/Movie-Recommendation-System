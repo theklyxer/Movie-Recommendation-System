{
 "cells": [
  {
   "cell_type": "code",
   "execution_count": 1,
   "metadata": {},
   "outputs": [],
   "source": [
    "import numpy as np\n",
    "import pandas as pd     #importing required libraries\n",
    "import chardet"
   ]
  },
  {
   "cell_type": "code",
   "execution_count": 2,
   "metadata": {},
   "outputs": [
    {
     "name": "stderr",
     "output_type": "stream",
     "text": [
      "C:\\Users\\mahes\\AppData\\Local\\Temp\\ipykernel_9916\\90157498.py:1: DtypeWarning: Columns (2,3,4,5,6,7,8,9,10,11,12,13,14,15,16,17,18,19,20,21,22,23,24,25,26,27,28,29,30,31,32,33,34,35,36,37,38,39,40,41,42,43,44,45,46,47,48,49,50,51,52,53,54,55,56,57,58,59,60,61,62,63,64,65,66,67,68,69,70,71,72,73,74,75,76,77,78,79,80,81,82,83,84,85,86,87,88,89,90,91,92,93,94,95,96,97,98,99,100,101,102,103,104,105,106,107,108,109,110,111,112,113,114,115,116,117,118,119,120,121,122,123,124,125,126,127,128,129,130,131,132,133,134,135,136,137,138,139,140,141,142,143,144,145,146,147,148,149,150,151,152,153,154,155,156,157,158,159,160,161,162,163,164,165,166,167,168,169,170,171,172,173,174,175,176,177,178,179,180,181,182,183,184,185,186,187,188,189,190,191,192,193,194,195,196,197,198,199,200,201,202,203,204,205,206,207,208,209,210,211,212,213,214,215,216,217,218,219,220,221,222,223,224,225,226,227,228,229,230,231,232,233,234,235,236,237,238,239,240,241,242,243,244,245,246,247,248,249,250,251,252,253,254,255,256,257,258,259,260,261,262,263,264,265,266,267,268,269,270,271,272,273,274,275,276,277,278,279,280,281,282,283,284,285,286,287,288,289,290,291,292,293,294,295,296,297,298,299,300,301,302,303,304,305,306,307,308,309,310,311,312,313,314,315,316,317,318,319,320,321,322,323,324,325,326,327,328,329,330,331,332,333,334,335,336,337,338,339,340,341,342,343,344,345,346,347,348,349,350,351,352,353,354,355,356,357,358,359,360,361,362,363,364,365,366,367,368,369,370,371,372,373,374,375,376,377,378,379,380,381,382,383,384,385,386,387,388,389,390,391,392,393,394,395,396,397,398,399,400,401,402,403,404,405,406,407,408,409,410,411,412,413,414,415,416,417,418,419,420,421,422,423,424,425,426,427,428,429,430,431,432,433,434,435,436,437,438,439,440,441,442,443,444,445,446,447,448,449,450,451,452,453,454,455,456,457,458,459,460,461,462,463,464,465,466,467,468,469,470,471,472,473,474,475,476,477,478,479,480,481,482,483,484,485,486,487,488,489,490,491,492,493,494,495,496,497,498,499,500,501,502,503,504,505,506,507,508,509,510,511,512,513,514,515,516,517,518,519,520,521,522,523,524,525,526,527,528,529,530,531,532,533,534,535,536,537,538,539,540,541,542,543,544,545,546,547,548,549,550,551,552,553,554,555,556,557,558,559,560,561,562,563,564,565,566,567,568,569,570,571,572,573,574,575,576,577,578,579,580,581,582,583,584,585,586,587,588,589,590,591,592,593,594,595,596,597,598,599,600,601,602,603,604,605,606,607,608,609,610,611,612,613,614,615,616,617,618,619,620,621,622,623,624,625,626,627,628,629,630,631,632,633,634,635,636,637,638,639,640,641,642,643,644,645,646,647,648,649,650,651,652,653,654,655,656,657,658,659,660,661,662,663,664,665,666,667,668,669,670,671,672,673,674,675,676,677,678,679,680,681,682,683,684,685,686,687,688,689,690,691,692,693,694,695,696,697,698,699,700,701,702,703,704,705,706,707,708,709,710,711,712,713,714,715,716,717,718,719,720,721,722,723,724,725,726,727,728,729,730,731,732,733,734,735,736,737,738,739,740,741,742,743,744,745,746,747,748,749,750,751,752,753,754,755,756,757,758,759,760,761,762,763,764,765,766,767,768,769,770,771,772,773,774,775,776,777,778,779,780,781,782,783,784,785,786,787,788,789,790,791,792,793,794,795,796,797,798,799,800,801,802,803,804,805,806,807,808,809,810,811,812,813,814,815,816,817,818,819,820,821,822,823,824,825,826,827,828,829,830,831,832,833,834,835,836,837,838,839,840,841,842,843,844,845,846,847,848,849,850,851,852,853,854,855,856,857,858,859,860,861,862,863,864,865,866,867,868,869,870,871,872,873,874,875,876,877,878,879,880,881,882,883,884,885,886,887,888,889,890,891,892,893,894,895,896,897,898,899,900,901,902,903,904,905,906,907,908,909,910,911,912,913,914,915,916,917,918,919,920,921,922,923,924,925,926,927,928,929,930,931,932,933,934,935,936,937,938,939,940,941,942,943,944,945,946,947,948,949,950,951,952,953,954,955,956,957,958,959,960,961,962,963,964,965,966,967,968,969,970,971,972,973,974,975,976,977,978,979,980,981,982,983,984,985,986,987,988,989,990,991,992,993,994,995,996,997,998,999,1000,1001,1002,1003,1004,1005,1006,1007,1008,1009,1010,1011,1012,1013,1014,1015,1016,1017,1018,1019,1020,1021,1022,1023,1024,1025,1026,1027,1028,1029,1030,1031,1032,1033,1034,1035,1036,1037,1038,1039,1040,1041,1042,1043,1044,1045,1046,1047,1048,1049,1050,1051,1052,1053,1054,1055,1056,1057,1058,1059,1060,1061,1062,1063,1064,1065,1066,1067,1068,1069,1070,1071,1072,1073,1074,1075,1076,1077,1078,1079,1080,1081,1082,1083,1084,1085,1086,1087,1088,1089,1090,1091,1092,1093,1094,1095,1096,1097,1098,1099,1100,1101,1102,1103,1104,1105,1106,1107,1108,1109,1110,1111,1112,1113,1114,1115,1116,1117,1118,1119,1120,1121,1122,1123,1124,1125,1126,1127,1128,1129,1130,1131,1132,1133,1134,1135,1136,1137,1138,1139,1140,1141,1142,1143,1144,1145,1146,1147,1148,1149,1150,1151,1152,1153,1154,1155,1156,1157,1158,1159,1160,1161,1162,1163,1164,1165,1166,1167,1168,1169,1170,1171,1172,1173,1174,1175,1176,1177,1178,1179,1180,1181,1182,1183,1184,1185,1186,1187,1188,1189,1190,1191,1192,1193,1194,1195,1196,1197,1198,1199,1200,1201,1202,1203,1204,1205,1206,1207,1208,1209,1210,1211,1212,1213,1214,1215,1216,1217,1218,1219,1220,1221,1222,1223,1224,1225,1226,1227,1228,1229,1230,1231,1232,1233,1234,1235,1236,1237,1238,1239,1240,1241,1242,1243,1244,1245,1246,1247,1248,1249,1250,1251,1252,1253,1254,1255,1256,1257,1258,1259,1260,1261,1262,1263,1264,1265,1266,1267,1268,1269,1270,1271,1272,1273,1274,1275,1276,1277,1278,1279,1280,1281,1282,1283,1284,1285,1286,1287,1288,1289,1290,1291,1292,1293,1294,1295,1296,1297,1298,1299,1300,1301,1302,1303,1304,1305,1306,1307,1308,1309,1310,1311,1312,1313,1314,1315,1316,1317,1318,1319,1320,1321,1322,1323,1324,1325,1326,1327,1328,1329,1330,1331,1332,1333,1334,1335,1336,1337,1338,1339,1340,1341,1342,1343,1344,1345,1346,1347,1348,1349,1350,1351,1352,1353,1354,1355,1356,1357,1358,1359,1360,1361,1362,1363,1364,1365,1366,1367,1368,1369,1370,1371,1372,1373,1374,1375,1376,1377,1378,1379,1380,1381,1382,1383,1384,1385,1386,1387,1388,1389,1390,1391,1392,1393,1394,1395,1396,1397,1398,1399,1400,1401,1402,1403,1404,1405,1406,1407,1408,1409,1410,1411,1412,1413,1414,1415,1416,1417,1418,1419,1420,1421,1422,1423,1424,1425,1426,1427,1428,1429,1430,1431,1432,1433,1434,1435,1436,1437,1438,1439,1440,1441,1442,1443,1444,1445,1446,1447,1448,1449,1450,1451,1452,1453,1454,1455,1456,1457,1458,1459,1460,1461,1462,1463,1464,1465,1466,1467,1468,1469,1470,1471,1472,1473,1474,1475,1476,1477,1478,1479,1480,1481,1482,1483,1484,1485,1486,1487,1488,1489,1490,1491,1492,1493,1494,1495,1496,1497,1498,1499,1500,1501,1502,1503,1504,1505,1506,1507,1508,1509,1510,1511,1512,1513,1514,1515,1516,1517,1518,1519,1520,1521,1522,1523,1524,1525,1526,1527,1528,1529,1530,1531,1532,1533,1534,1535,1536,1537,1538,1539,1540,1541,1542,1543,1544,1545,1546,1547,1548,1549,1550,1551,1552,1553,1554,1555,1556,1557,1558,1559,1560,1561,1562,1563,1564,1565,1566,1567,1568,1569,1570,1571,1572,1573,1574,1575,1576,1577,1578,1579,1580,1581,1582,1583,1584,1585,1586,1587,1588,1589,1590,1591,1592,1593,1594,1595,1596,1597,1598,1599,1600,1601,1602,1603,1604,1605,1606,1607,1608,1609,1610,1611,1612,1613,1614,1615,1616,1617,1618,1619,1620,1621,1622,1623,1624,1625,1626,1627,1628,1629,1630,1631,1632,1633,1634,1635,1636,1637,1638,1639,1640,1641,1642,1643,1644,1645,1646,1647,1648,1649,1650,1651,1652,1653,1654,1655,1656,1657,1658,1659,1660,1661,1662,1663,1664,1665,1666,1667,1668,1669,1670,1671,1672,1673,1674,1675,1676,1677,1678,1679,1680,1681,1682,1683,1684,1685,1686,1687,1688,1689,1690,1691,1692,1693,1694) have mixed types. Specify dtype option on import or set low_memory=False.\n",
      "  credits = pd.read_csv('credits.csv')       #loading credits into dataframe\n"
     ]
    }
   ],
   "source": [
    "credits = pd.read_csv('credits.csv')       #loading credits into dataframe"
   ]
  },
  {
   "cell_type": "code",
   "execution_count": 3,
   "metadata": {},
   "outputs": [],
   "source": [
    "movies = pd.read_csv('movies_metadata.csv')  #loading movies into dataframe"
   ]
  },
  {
   "cell_type": "code",
   "execution_count": 4,
   "metadata": {},
   "outputs": [
    {
     "data": {
      "text/plain": [
       "(45466, 6)"
      ]
     },
     "execution_count": 4,
     "metadata": {},
     "output_type": "execute_result"
    }
   ],
   "source": [
    "movies.shape"
   ]
  },
  {
   "cell_type": "code",
   "execution_count": 5,
   "metadata": {},
   "outputs": [
    {
     "data": {
      "text/plain": [
       "(45504, 1696)"
      ]
     },
     "execution_count": 5,
     "metadata": {},
     "output_type": "execute_result"
    }
   ],
   "source": [
    "credits.shape"
   ]
  },
  {
   "cell_type": "code",
   "execution_count": 6,
   "metadata": {},
   "outputs": [],
   "source": [
    "selected_columns = ['cast', 'crew','movieid']\n",
    "credits = credits[selected_columns]"
   ]
  },
  {
   "cell_type": "code",
   "execution_count": 7,
   "metadata": {},
   "outputs": [
    {
     "data": {
      "text/plain": [
       "(45504, 3)"
      ]
     },
     "execution_count": 7,
     "metadata": {},
     "output_type": "execute_result"
    }
   ],
   "source": [
    "credits.shape"
   ]
  },
  {
   "cell_type": "code",
   "execution_count": 8,
   "metadata": {},
   "outputs": [],
   "source": [
    "imp = pd.read_csv('impwords.csv')  #loading movies into dataframe"
   ]
  },
  {
   "cell_type": "code",
   "execution_count": 9,
   "metadata": {},
   "outputs": [
    {
     "data": {
      "text/plain": [
       "(46419, 2)"
      ]
     },
     "execution_count": 9,
     "metadata": {},
     "output_type": "execute_result"
    }
   ],
   "source": [
    "imp.shape"
   ]
  },
  {
   "cell_type": "code",
   "execution_count": 10,
   "metadata": {},
   "outputs": [
    {
     "data": {
      "text/plain": [
       "(45466, 6)"
      ]
     },
     "execution_count": 10,
     "metadata": {},
     "output_type": "execute_result"
    }
   ],
   "source": [
    "movies.shape"
   ]
  },
  {
   "cell_type": "code",
   "execution_count": 11,
   "metadata": {},
   "outputs": [
    {
     "data": {
      "text/plain": [
       "genres              0\n",
       "movieid             0\n",
       "original_title      0\n",
       "overview          954\n",
       "release_date       87\n",
       "title               6\n",
       "dtype: int64"
      ]
     },
     "execution_count": 11,
     "metadata": {},
     "output_type": "execute_result"
    }
   ],
   "source": [
    "movies.isnull().sum()"
   ]
  },
  {
   "cell_type": "code",
   "execution_count": 12,
   "metadata": {},
   "outputs": [],
   "source": [
    "movies.dropna(inplace=True) #now we are dropping the empty cells in which we have no use "
   ]
  },
  {
   "cell_type": "code",
   "execution_count": 13,
   "metadata": {},
   "outputs": [
    {
     "data": {
      "text/plain": [
       "genres            0\n",
       "movieid           0\n",
       "original_title    0\n",
       "overview          0\n",
       "release_date      0\n",
       "title             0\n",
       "dtype: int64"
      ]
     },
     "execution_count": 13,
     "metadata": {},
     "output_type": "execute_result"
    }
   ],
   "source": [
    "movies.isnull().sum()"
   ]
  },
  {
   "cell_type": "code",
   "execution_count": 14,
   "metadata": {},
   "outputs": [
    {
     "data": {
      "text/plain": [
       "(44435, 6)"
      ]
     },
     "execution_count": 14,
     "metadata": {},
     "output_type": "execute_result"
    }
   ],
   "source": [
    "movies.shape"
   ]
  },
  {
   "cell_type": "code",
   "execution_count": 15,
   "metadata": {},
   "outputs": [],
   "source": [
    "credits.dropna(inplace=True) #now we are dropping the empty cells in which we have no use "
   ]
  },
  {
   "cell_type": "code",
   "execution_count": 16,
   "metadata": {},
   "outputs": [
    {
     "data": {
      "text/plain": [
       "(45475, 3)"
      ]
     },
     "execution_count": 16,
     "metadata": {},
     "output_type": "execute_result"
    }
   ],
   "source": [
    "credits.shape"
   ]
  },
  {
   "cell_type": "code",
   "execution_count": 17,
   "metadata": {},
   "outputs": [],
   "source": [
    "imp.dropna(inplace=True) #now we are dropping the empty cells in which we have no use "
   ]
  },
  {
   "cell_type": "code",
   "execution_count": 18,
   "metadata": {},
   "outputs": [
    {
     "data": {
      "text/plain": [
       "(46419, 2)"
      ]
     },
     "execution_count": 18,
     "metadata": {},
     "output_type": "execute_result"
    }
   ],
   "source": [
    "imp.shape"
   ]
  },
  {
   "cell_type": "code",
   "execution_count": 19,
   "metadata": {},
   "outputs": [
    {
     "data": {
      "text/plain": [
       "genres            0\n",
       "movieid           0\n",
       "original_title    0\n",
       "overview          0\n",
       "release_date      0\n",
       "title             0\n",
       "dtype: int64"
      ]
     },
     "execution_count": 19,
     "metadata": {},
     "output_type": "execute_result"
    }
   ],
   "source": [
    "movies.isnull().sum()"
   ]
  },
  {
   "cell_type": "code",
   "execution_count": 20,
   "metadata": {},
   "outputs": [
    {
     "data": {
      "text/plain": [
       "movieid     0\n",
       "keywords    0\n",
       "dtype: int64"
      ]
     },
     "execution_count": 20,
     "metadata": {},
     "output_type": "execute_result"
    }
   ],
   "source": [
    "imp.isnull().sum()"
   ]
  },
  {
   "cell_type": "code",
   "execution_count": 21,
   "metadata": {},
   "outputs": [
    {
     "data": {
      "text/plain": [
       "cast       0\n",
       "crew       0\n",
       "movieid    0\n",
       "dtype: int64"
      ]
     },
     "execution_count": 21,
     "metadata": {},
     "output_type": "execute_result"
    }
   ],
   "source": [
    "credits.isnull().sum()"
   ]
  },
  {
   "cell_type": "code",
   "execution_count": 22,
   "metadata": {},
   "outputs": [],
   "source": [
    "# Assuming 'movieid' column in both DataFrames has mismatched types\n",
    "imp['movieid'] = imp['movieid'].astype(str)  # Convert to 'object' type (string)\n",
    "\n",
    "# Now perform the merge\n",
    "movies = movies.merge(imp, on='movieid')"
   ]
  },
  {
   "cell_type": "code",
   "execution_count": 23,
   "metadata": {},
   "outputs": [
    {
     "data": {
      "text/plain": [
       "(45412, 7)"
      ]
     },
     "execution_count": 23,
     "metadata": {},
     "output_type": "execute_result"
    }
   ],
   "source": [
    "movies.shape"
   ]
  },
  {
   "cell_type": "code",
   "execution_count": 24,
   "metadata": {},
   "outputs": [
    {
     "data": {
      "text/plain": [
       "genres            0\n",
       "movieid           0\n",
       "original_title    0\n",
       "overview          0\n",
       "release_date      0\n",
       "title             0\n",
       "keywords          0\n",
       "dtype: int64"
      ]
     },
     "execution_count": 24,
     "metadata": {},
     "output_type": "execute_result"
    }
   ],
   "source": [
    "movies.isnull().sum()"
   ]
  },
  {
   "cell_type": "code",
   "execution_count": 25,
   "metadata": {},
   "outputs": [
    {
     "data": {
      "text/plain": [
       "cast       0\n",
       "crew       0\n",
       "movieid    0\n",
       "dtype: int64"
      ]
     },
     "execution_count": 25,
     "metadata": {},
     "output_type": "execute_result"
    }
   ],
   "source": [
    "credits.isnull().sum()"
   ]
  },
  {
   "cell_type": "code",
   "execution_count": 26,
   "metadata": {},
   "outputs": [
    {
     "data": {
      "text/plain": [
       "(45475, 3)"
      ]
     },
     "execution_count": 26,
     "metadata": {},
     "output_type": "execute_result"
    }
   ],
   "source": [
    "credits.shape"
   ]
  },
  {
   "cell_type": "code",
   "execution_count": 27,
   "metadata": {},
   "outputs": [
    {
     "data": {
      "text/plain": [
       "(45412, 7)"
      ]
     },
     "execution_count": 27,
     "metadata": {},
     "output_type": "execute_result"
    }
   ],
   "source": [
    "movies.shape"
   ]
  },
  {
   "cell_type": "code",
   "execution_count": 28,
   "metadata": {},
   "outputs": [],
   "source": [
    "merged_df = pd.merge(credits, movies, on='movieid')"
   ]
  },
  {
   "cell_type": "code",
   "execution_count": 29,
   "metadata": {},
   "outputs": [
    {
     "data": {
      "text/plain": [
       "(11051, 9)"
      ]
     },
     "execution_count": 29,
     "metadata": {},
     "output_type": "execute_result"
    }
   ],
   "source": [
    "merged_df.shape"
   ]
  },
  {
   "cell_type": "code",
   "execution_count": 30,
   "metadata": {},
   "outputs": [],
   "source": [
    "credits = credits.dropna(subset=['movieid'])\n",
    "movies = movies.dropna(subset=['movieid'])\n"
   ]
  },
  {
   "cell_type": "code",
   "execution_count": 31,
   "metadata": {},
   "outputs": [],
   "source": [
    "credits['movieid'] = credits['movieid'].astype(str).str.strip()\n",
    "movies['movieid'] = movies['movieid'].astype(str).str.strip()\n"
   ]
  },
  {
   "cell_type": "code",
   "execution_count": 32,
   "metadata": {},
   "outputs": [],
   "source": [
    "up_df = pd.merge(credits, movies, on='movieid')\n"
   ]
  },
  {
   "cell_type": "code",
   "execution_count": 33,
   "metadata": {},
   "outputs": [
    {
     "data": {
      "text/plain": [
       "(45530, 9)"
      ]
     },
     "execution_count": 33,
     "metadata": {},
     "output_type": "execute_result"
    }
   ],
   "source": [
    "up_df.shape           #remember up_df is the main data frame upto now"
   ]
  },
  {
   "cell_type": "code",
   "execution_count": 34,
   "metadata": {},
   "outputs": [
    {
     "data": {
      "text/html": [
       "<div>\n",
       "<style scoped>\n",
       "    .dataframe tbody tr th:only-of-type {\n",
       "        vertical-align: middle;\n",
       "    }\n",
       "\n",
       "    .dataframe tbody tr th {\n",
       "        vertical-align: top;\n",
       "    }\n",
       "\n",
       "    .dataframe thead th {\n",
       "        text-align: right;\n",
       "    }\n",
       "</style>\n",
       "<table border=\"1\" class=\"dataframe\">\n",
       "  <thead>\n",
       "    <tr style=\"text-align: right;\">\n",
       "      <th></th>\n",
       "      <th>cast</th>\n",
       "      <th>crew</th>\n",
       "      <th>movieid</th>\n",
       "      <th>genres</th>\n",
       "      <th>original_title</th>\n",
       "      <th>overview</th>\n",
       "      <th>release_date</th>\n",
       "      <th>title</th>\n",
       "      <th>keywords</th>\n",
       "    </tr>\n",
       "  </thead>\n",
       "  <tbody>\n",
       "    <tr>\n",
       "      <th>0</th>\n",
       "      <td>[{'cast_id': 14, 'character': 'Woody (voice)',...</td>\n",
       "      <td>[{'credit_id': '52fe4284c3a36847f8024f49', 'de...</td>\n",
       "      <td>862</td>\n",
       "      <td>[{'id': 16, 'name': 'Animation'}, {'id': 35, '...</td>\n",
       "      <td>Toy Story</td>\n",
       "      <td>Led by Woody, Andy's toys live happily in his ...</td>\n",
       "      <td>30-10-1995</td>\n",
       "      <td>Toy Story</td>\n",
       "      <td>[{'id': 931, 'name': 'jealousy'}, {'id': 4290,...</td>\n",
       "    </tr>\n",
       "    <tr>\n",
       "      <th>1</th>\n",
       "      <td>[{'cast_id': 1, 'character': 'Alan Parrish', '...</td>\n",
       "      <td>[{'credit_id': '52fe44bfc3a36847f80a7cd1', 'de...</td>\n",
       "      <td>8844</td>\n",
       "      <td>[{'id': 12, 'name': 'Adventure'}, {'id': 14, '...</td>\n",
       "      <td>Jumanji</td>\n",
       "      <td>When siblings Judy and Peter discover an encha...</td>\n",
       "      <td>15-12-1995</td>\n",
       "      <td>Jumanji</td>\n",
       "      <td>[{'id': 10090, 'name': 'board game'}, {'id': 1...</td>\n",
       "    </tr>\n",
       "    <tr>\n",
       "      <th>2</th>\n",
       "      <td>[{'cast_id': 2, 'character': 'Max Goldman', 'c...</td>\n",
       "      <td>[{'credit_id': '52fe466a9251416c75077a89', 'de...</td>\n",
       "      <td>15602</td>\n",
       "      <td>[{'id': 10749, 'name': 'Romance'}, {'id': 35, ...</td>\n",
       "      <td>Grumpier Old Men</td>\n",
       "      <td>A family wedding reignites the ancient feud be...</td>\n",
       "      <td>22-12-1995</td>\n",
       "      <td>Grumpier Old Men</td>\n",
       "      <td>[{'id': 1495, 'name': 'fishing'}, {'id': 12392...</td>\n",
       "    </tr>\n",
       "    <tr>\n",
       "      <th>3</th>\n",
       "      <td>[{'cast_id': 1, 'character': \"Savannah 'Vannah...</td>\n",
       "      <td>[{'credit_id': '52fe44779251416c91011acb', 'de...</td>\n",
       "      <td>31357</td>\n",
       "      <td>[{'id': 35, 'name': 'Comedy'}, {'id': 18, 'nam...</td>\n",
       "      <td>Waiting to Exhale</td>\n",
       "      <td>Cheated on, mistreated and stepped on, the wom...</td>\n",
       "      <td>22-12-1995</td>\n",
       "      <td>Waiting to Exhale</td>\n",
       "      <td>[{'id': 818, 'name': 'based on novel'}, {'id':...</td>\n",
       "    </tr>\n",
       "    <tr>\n",
       "      <th>4</th>\n",
       "      <td>[{'cast_id': 1, 'character': 'George Banks', '...</td>\n",
       "      <td>[{'credit_id': '52fe44959251416c75039ed7', 'de...</td>\n",
       "      <td>11862</td>\n",
       "      <td>[{'id': 35, 'name': 'Comedy'}]</td>\n",
       "      <td>Father of the Bride Part II</td>\n",
       "      <td>Just when George Banks has recovered from his ...</td>\n",
       "      <td>10-02-1995</td>\n",
       "      <td>Father of the Bride Part II</td>\n",
       "      <td>[{'id': 1009, 'name': 'baby'}, {'id': 1599, 'n...</td>\n",
       "    </tr>\n",
       "  </tbody>\n",
       "</table>\n",
       "</div>"
      ],
      "text/plain": [
       "                                                cast  \\\n",
       "0  [{'cast_id': 14, 'character': 'Woody (voice)',...   \n",
       "1  [{'cast_id': 1, 'character': 'Alan Parrish', '...   \n",
       "2  [{'cast_id': 2, 'character': 'Max Goldman', 'c...   \n",
       "3  [{'cast_id': 1, 'character': \"Savannah 'Vannah...   \n",
       "4  [{'cast_id': 1, 'character': 'George Banks', '...   \n",
       "\n",
       "                                                crew movieid  \\\n",
       "0  [{'credit_id': '52fe4284c3a36847f8024f49', 'de...     862   \n",
       "1  [{'credit_id': '52fe44bfc3a36847f80a7cd1', 'de...    8844   \n",
       "2  [{'credit_id': '52fe466a9251416c75077a89', 'de...   15602   \n",
       "3  [{'credit_id': '52fe44779251416c91011acb', 'de...   31357   \n",
       "4  [{'credit_id': '52fe44959251416c75039ed7', 'de...   11862   \n",
       "\n",
       "                                              genres  \\\n",
       "0  [{'id': 16, 'name': 'Animation'}, {'id': 35, '...   \n",
       "1  [{'id': 12, 'name': 'Adventure'}, {'id': 14, '...   \n",
       "2  [{'id': 10749, 'name': 'Romance'}, {'id': 35, ...   \n",
       "3  [{'id': 35, 'name': 'Comedy'}, {'id': 18, 'nam...   \n",
       "4                     [{'id': 35, 'name': 'Comedy'}]   \n",
       "\n",
       "                original_title  \\\n",
       "0                    Toy Story   \n",
       "1                      Jumanji   \n",
       "2             Grumpier Old Men   \n",
       "3            Waiting to Exhale   \n",
       "4  Father of the Bride Part II   \n",
       "\n",
       "                                            overview release_date  \\\n",
       "0  Led by Woody, Andy's toys live happily in his ...   30-10-1995   \n",
       "1  When siblings Judy and Peter discover an encha...   15-12-1995   \n",
       "2  A family wedding reignites the ancient feud be...   22-12-1995   \n",
       "3  Cheated on, mistreated and stepped on, the wom...   22-12-1995   \n",
       "4  Just when George Banks has recovered from his ...   10-02-1995   \n",
       "\n",
       "                         title  \\\n",
       "0                    Toy Story   \n",
       "1                      Jumanji   \n",
       "2             Grumpier Old Men   \n",
       "3            Waiting to Exhale   \n",
       "4  Father of the Bride Part II   \n",
       "\n",
       "                                            keywords  \n",
       "0  [{'id': 931, 'name': 'jealousy'}, {'id': 4290,...  \n",
       "1  [{'id': 10090, 'name': 'board game'}, {'id': 1...  \n",
       "2  [{'id': 1495, 'name': 'fishing'}, {'id': 12392...  \n",
       "3  [{'id': 818, 'name': 'based on novel'}, {'id':...  \n",
       "4  [{'id': 1009, 'name': 'baby'}, {'id': 1599, 'n...  "
      ]
     },
     "execution_count": 34,
     "metadata": {},
     "output_type": "execute_result"
    }
   ],
   "source": [
    "up_df.head()"
   ]
  },
  {
   "cell_type": "code",
   "execution_count": 35,
   "metadata": {},
   "outputs": [],
   "source": [
    "import ast"
   ]
  },
  {
   "cell_type": "code",
   "execution_count": 36,
   "metadata": {},
   "outputs": [],
   "source": [
    "def conv(var):\n",
    "    return [i['name'] for i in ast.literal_eval(var)]          #we are converting the given data into list "
   ]
  },
  {
   "cell_type": "code",
   "execution_count": 37,
   "metadata": {},
   "outputs": [
    {
     "data": {
      "text/html": [
       "<div>\n",
       "<style scoped>\n",
       "    .dataframe tbody tr th:only-of-type {\n",
       "        vertical-align: middle;\n",
       "    }\n",
       "\n",
       "    .dataframe tbody tr th {\n",
       "        vertical-align: top;\n",
       "    }\n",
       "\n",
       "    .dataframe thead th {\n",
       "        text-align: right;\n",
       "    }\n",
       "</style>\n",
       "<table border=\"1\" class=\"dataframe\">\n",
       "  <thead>\n",
       "    <tr style=\"text-align: right;\">\n",
       "      <th></th>\n",
       "      <th>cast</th>\n",
       "      <th>crew</th>\n",
       "      <th>movieid</th>\n",
       "      <th>genres</th>\n",
       "      <th>original_title</th>\n",
       "      <th>overview</th>\n",
       "      <th>release_date</th>\n",
       "      <th>title</th>\n",
       "      <th>keywords</th>\n",
       "    </tr>\n",
       "  </thead>\n",
       "  <tbody>\n",
       "    <tr>\n",
       "      <th>0</th>\n",
       "      <td>[{'cast_id': 14, 'character': 'Woody (voice)',...</td>\n",
       "      <td>[{'credit_id': '52fe4284c3a36847f8024f49', 'de...</td>\n",
       "      <td>862</td>\n",
       "      <td>[Animation, Comedy, Family]</td>\n",
       "      <td>Toy Story</td>\n",
       "      <td>Led by Woody, Andy's toys live happily in his ...</td>\n",
       "      <td>30-10-1995</td>\n",
       "      <td>Toy Story</td>\n",
       "      <td>[{'id': 931, 'name': 'jealousy'}, {'id': 4290,...</td>\n",
       "    </tr>\n",
       "    <tr>\n",
       "      <th>1</th>\n",
       "      <td>[{'cast_id': 1, 'character': 'Alan Parrish', '...</td>\n",
       "      <td>[{'credit_id': '52fe44bfc3a36847f80a7cd1', 'de...</td>\n",
       "      <td>8844</td>\n",
       "      <td>[Adventure, Fantasy, Family]</td>\n",
       "      <td>Jumanji</td>\n",
       "      <td>When siblings Judy and Peter discover an encha...</td>\n",
       "      <td>15-12-1995</td>\n",
       "      <td>Jumanji</td>\n",
       "      <td>[{'id': 10090, 'name': 'board game'}, {'id': 1...</td>\n",
       "    </tr>\n",
       "    <tr>\n",
       "      <th>2</th>\n",
       "      <td>[{'cast_id': 2, 'character': 'Max Goldman', 'c...</td>\n",
       "      <td>[{'credit_id': '52fe466a9251416c75077a89', 'de...</td>\n",
       "      <td>15602</td>\n",
       "      <td>[Romance, Comedy]</td>\n",
       "      <td>Grumpier Old Men</td>\n",
       "      <td>A family wedding reignites the ancient feud be...</td>\n",
       "      <td>22-12-1995</td>\n",
       "      <td>Grumpier Old Men</td>\n",
       "      <td>[{'id': 1495, 'name': 'fishing'}, {'id': 12392...</td>\n",
       "    </tr>\n",
       "    <tr>\n",
       "      <th>3</th>\n",
       "      <td>[{'cast_id': 1, 'character': \"Savannah 'Vannah...</td>\n",
       "      <td>[{'credit_id': '52fe44779251416c91011acb', 'de...</td>\n",
       "      <td>31357</td>\n",
       "      <td>[Comedy, Drama, Romance]</td>\n",
       "      <td>Waiting to Exhale</td>\n",
       "      <td>Cheated on, mistreated and stepped on, the wom...</td>\n",
       "      <td>22-12-1995</td>\n",
       "      <td>Waiting to Exhale</td>\n",
       "      <td>[{'id': 818, 'name': 'based on novel'}, {'id':...</td>\n",
       "    </tr>\n",
       "    <tr>\n",
       "      <th>4</th>\n",
       "      <td>[{'cast_id': 1, 'character': 'George Banks', '...</td>\n",
       "      <td>[{'credit_id': '52fe44959251416c75039ed7', 'de...</td>\n",
       "      <td>11862</td>\n",
       "      <td>[Comedy]</td>\n",
       "      <td>Father of the Bride Part II</td>\n",
       "      <td>Just when George Banks has recovered from his ...</td>\n",
       "      <td>10-02-1995</td>\n",
       "      <td>Father of the Bride Part II</td>\n",
       "      <td>[{'id': 1009, 'name': 'baby'}, {'id': 1599, 'n...</td>\n",
       "    </tr>\n",
       "  </tbody>\n",
       "</table>\n",
       "</div>"
      ],
      "text/plain": [
       "                                                cast  \\\n",
       "0  [{'cast_id': 14, 'character': 'Woody (voice)',...   \n",
       "1  [{'cast_id': 1, 'character': 'Alan Parrish', '...   \n",
       "2  [{'cast_id': 2, 'character': 'Max Goldman', 'c...   \n",
       "3  [{'cast_id': 1, 'character': \"Savannah 'Vannah...   \n",
       "4  [{'cast_id': 1, 'character': 'George Banks', '...   \n",
       "\n",
       "                                                crew movieid  \\\n",
       "0  [{'credit_id': '52fe4284c3a36847f8024f49', 'de...     862   \n",
       "1  [{'credit_id': '52fe44bfc3a36847f80a7cd1', 'de...    8844   \n",
       "2  [{'credit_id': '52fe466a9251416c75077a89', 'de...   15602   \n",
       "3  [{'credit_id': '52fe44779251416c91011acb', 'de...   31357   \n",
       "4  [{'credit_id': '52fe44959251416c75039ed7', 'de...   11862   \n",
       "\n",
       "                         genres               original_title  \\\n",
       "0   [Animation, Comedy, Family]                    Toy Story   \n",
       "1  [Adventure, Fantasy, Family]                      Jumanji   \n",
       "2             [Romance, Comedy]             Grumpier Old Men   \n",
       "3      [Comedy, Drama, Romance]            Waiting to Exhale   \n",
       "4                      [Comedy]  Father of the Bride Part II   \n",
       "\n",
       "                                            overview release_date  \\\n",
       "0  Led by Woody, Andy's toys live happily in his ...   30-10-1995   \n",
       "1  When siblings Judy and Peter discover an encha...   15-12-1995   \n",
       "2  A family wedding reignites the ancient feud be...   22-12-1995   \n",
       "3  Cheated on, mistreated and stepped on, the wom...   22-12-1995   \n",
       "4  Just when George Banks has recovered from his ...   10-02-1995   \n",
       "\n",
       "                         title  \\\n",
       "0                    Toy Story   \n",
       "1                      Jumanji   \n",
       "2             Grumpier Old Men   \n",
       "3            Waiting to Exhale   \n",
       "4  Father of the Bride Part II   \n",
       "\n",
       "                                            keywords  \n",
       "0  [{'id': 931, 'name': 'jealousy'}, {'id': 4290,...  \n",
       "1  [{'id': 10090, 'name': 'board game'}, {'id': 1...  \n",
       "2  [{'id': 1495, 'name': 'fishing'}, {'id': 12392...  \n",
       "3  [{'id': 818, 'name': 'based on novel'}, {'id':...  \n",
       "4  [{'id': 1009, 'name': 'baby'}, {'id': 1599, 'n...  "
      ]
     },
     "execution_count": 37,
     "metadata": {},
     "output_type": "execute_result"
    }
   ],
   "source": [
    "up_df['genres'] = up_df['genres'].apply(conv)\n",
    "up_df.head()                                       #adding converted data to generes"
   ]
  },
  {
   "cell_type": "code",
   "execution_count": 38,
   "metadata": {},
   "outputs": [
    {
     "data": {
      "text/html": [
       "<div>\n",
       "<style scoped>\n",
       "    .dataframe tbody tr th:only-of-type {\n",
       "        vertical-align: middle;\n",
       "    }\n",
       "\n",
       "    .dataframe tbody tr th {\n",
       "        vertical-align: top;\n",
       "    }\n",
       "\n",
       "    .dataframe thead th {\n",
       "        text-align: right;\n",
       "    }\n",
       "</style>\n",
       "<table border=\"1\" class=\"dataframe\">\n",
       "  <thead>\n",
       "    <tr style=\"text-align: right;\">\n",
       "      <th></th>\n",
       "      <th>cast</th>\n",
       "      <th>crew</th>\n",
       "      <th>movieid</th>\n",
       "      <th>genres</th>\n",
       "      <th>original_title</th>\n",
       "      <th>overview</th>\n",
       "      <th>release_date</th>\n",
       "      <th>title</th>\n",
       "      <th>keywords</th>\n",
       "    </tr>\n",
       "  </thead>\n",
       "  <tbody>\n",
       "    <tr>\n",
       "      <th>0</th>\n",
       "      <td>[{'cast_id': 14, 'character': 'Woody (voice)',...</td>\n",
       "      <td>[{'credit_id': '52fe4284c3a36847f8024f49', 'de...</td>\n",
       "      <td>862</td>\n",
       "      <td>[Animation, Comedy, Family]</td>\n",
       "      <td>Toy Story</td>\n",
       "      <td>Led by Woody, Andy's toys live happily in his ...</td>\n",
       "      <td>30-10-1995</td>\n",
       "      <td>Toy Story</td>\n",
       "      <td>[jealousy, toy, boy, friendship, friends, riva...</td>\n",
       "    </tr>\n",
       "    <tr>\n",
       "      <th>1</th>\n",
       "      <td>[{'cast_id': 1, 'character': 'Alan Parrish', '...</td>\n",
       "      <td>[{'credit_id': '52fe44bfc3a36847f80a7cd1', 'de...</td>\n",
       "      <td>8844</td>\n",
       "      <td>[Adventure, Fantasy, Family]</td>\n",
       "      <td>Jumanji</td>\n",
       "      <td>When siblings Judy and Peter discover an encha...</td>\n",
       "      <td>15-12-1995</td>\n",
       "      <td>Jumanji</td>\n",
       "      <td>[board game, disappearance, based on children'...</td>\n",
       "    </tr>\n",
       "    <tr>\n",
       "      <th>2</th>\n",
       "      <td>[{'cast_id': 2, 'character': 'Max Goldman', 'c...</td>\n",
       "      <td>[{'credit_id': '52fe466a9251416c75077a89', 'de...</td>\n",
       "      <td>15602</td>\n",
       "      <td>[Romance, Comedy]</td>\n",
       "      <td>Grumpier Old Men</td>\n",
       "      <td>A family wedding reignites the ancient feud be...</td>\n",
       "      <td>22-12-1995</td>\n",
       "      <td>Grumpier Old Men</td>\n",
       "      <td>[fishing, best friend, duringcreditsstinger, o...</td>\n",
       "    </tr>\n",
       "    <tr>\n",
       "      <th>3</th>\n",
       "      <td>[{'cast_id': 1, 'character': \"Savannah 'Vannah...</td>\n",
       "      <td>[{'credit_id': '52fe44779251416c91011acb', 'de...</td>\n",
       "      <td>31357</td>\n",
       "      <td>[Comedy, Drama, Romance]</td>\n",
       "      <td>Waiting to Exhale</td>\n",
       "      <td>Cheated on, mistreated and stepped on, the wom...</td>\n",
       "      <td>22-12-1995</td>\n",
       "      <td>Waiting to Exhale</td>\n",
       "      <td>[based on novel, interracial relationship, sin...</td>\n",
       "    </tr>\n",
       "    <tr>\n",
       "      <th>4</th>\n",
       "      <td>[{'cast_id': 1, 'character': 'George Banks', '...</td>\n",
       "      <td>[{'credit_id': '52fe44959251416c75039ed7', 'de...</td>\n",
       "      <td>11862</td>\n",
       "      <td>[Comedy]</td>\n",
       "      <td>Father of the Bride Part II</td>\n",
       "      <td>Just when George Banks has recovered from his ...</td>\n",
       "      <td>10-02-1995</td>\n",
       "      <td>Father of the Bride Part II</td>\n",
       "      <td>[baby, midlife crisis, confidence, aging, daug...</td>\n",
       "    </tr>\n",
       "  </tbody>\n",
       "</table>\n",
       "</div>"
      ],
      "text/plain": [
       "                                                cast  \\\n",
       "0  [{'cast_id': 14, 'character': 'Woody (voice)',...   \n",
       "1  [{'cast_id': 1, 'character': 'Alan Parrish', '...   \n",
       "2  [{'cast_id': 2, 'character': 'Max Goldman', 'c...   \n",
       "3  [{'cast_id': 1, 'character': \"Savannah 'Vannah...   \n",
       "4  [{'cast_id': 1, 'character': 'George Banks', '...   \n",
       "\n",
       "                                                crew movieid  \\\n",
       "0  [{'credit_id': '52fe4284c3a36847f8024f49', 'de...     862   \n",
       "1  [{'credit_id': '52fe44bfc3a36847f80a7cd1', 'de...    8844   \n",
       "2  [{'credit_id': '52fe466a9251416c75077a89', 'de...   15602   \n",
       "3  [{'credit_id': '52fe44779251416c91011acb', 'de...   31357   \n",
       "4  [{'credit_id': '52fe44959251416c75039ed7', 'de...   11862   \n",
       "\n",
       "                         genres               original_title  \\\n",
       "0   [Animation, Comedy, Family]                    Toy Story   \n",
       "1  [Adventure, Fantasy, Family]                      Jumanji   \n",
       "2             [Romance, Comedy]             Grumpier Old Men   \n",
       "3      [Comedy, Drama, Romance]            Waiting to Exhale   \n",
       "4                      [Comedy]  Father of the Bride Part II   \n",
       "\n",
       "                                            overview release_date  \\\n",
       "0  Led by Woody, Andy's toys live happily in his ...   30-10-1995   \n",
       "1  When siblings Judy and Peter discover an encha...   15-12-1995   \n",
       "2  A family wedding reignites the ancient feud be...   22-12-1995   \n",
       "3  Cheated on, mistreated and stepped on, the wom...   22-12-1995   \n",
       "4  Just when George Banks has recovered from his ...   10-02-1995   \n",
       "\n",
       "                         title  \\\n",
       "0                    Toy Story   \n",
       "1                      Jumanji   \n",
       "2             Grumpier Old Men   \n",
       "3            Waiting to Exhale   \n",
       "4  Father of the Bride Part II   \n",
       "\n",
       "                                            keywords  \n",
       "0  [jealousy, toy, boy, friendship, friends, riva...  \n",
       "1  [board game, disappearance, based on children'...  \n",
       "2  [fishing, best friend, duringcreditsstinger, o...  \n",
       "3  [based on novel, interracial relationship, sin...  \n",
       "4  [baby, midlife crisis, confidence, aging, daug...  "
      ]
     },
     "execution_count": 38,
     "metadata": {},
     "output_type": "execute_result"
    }
   ],
   "source": [
    "up_df['keywords'] = up_df['keywords'].apply(conv)\n",
    "up_df.head()                                       #adding converted data to generes"
   ]
  },
  {
   "cell_type": "code",
   "execution_count": 39,
   "metadata": {},
   "outputs": [],
   "source": [
    "def fetchthedirector(var):\n",
    "    L = []\n",
    "    for i in ast.literal_eval(var):\n",
    "        if i['job'] == 'Director':\n",
    "            L.append(i['name'])\n",
    "    return L "
   ]
  },
  {
   "cell_type": "code",
   "execution_count": 40,
   "metadata": {},
   "outputs": [
    {
     "data": {
      "text/html": [
       "<div>\n",
       "<style scoped>\n",
       "    .dataframe tbody tr th:only-of-type {\n",
       "        vertical-align: middle;\n",
       "    }\n",
       "\n",
       "    .dataframe tbody tr th {\n",
       "        vertical-align: top;\n",
       "    }\n",
       "\n",
       "    .dataframe thead th {\n",
       "        text-align: right;\n",
       "    }\n",
       "</style>\n",
       "<table border=\"1\" class=\"dataframe\">\n",
       "  <thead>\n",
       "    <tr style=\"text-align: right;\">\n",
       "      <th></th>\n",
       "      <th>cast</th>\n",
       "      <th>crew</th>\n",
       "      <th>movieid</th>\n",
       "      <th>genres</th>\n",
       "      <th>original_title</th>\n",
       "      <th>overview</th>\n",
       "      <th>release_date</th>\n",
       "      <th>title</th>\n",
       "      <th>keywords</th>\n",
       "    </tr>\n",
       "  </thead>\n",
       "  <tbody>\n",
       "    <tr>\n",
       "      <th>0</th>\n",
       "      <td>[{'cast_id': 14, 'character': 'Woody (voice)',...</td>\n",
       "      <td>[John Lasseter]</td>\n",
       "      <td>862</td>\n",
       "      <td>[Animation, Comedy, Family]</td>\n",
       "      <td>Toy Story</td>\n",
       "      <td>Led by Woody, Andy's toys live happily in his ...</td>\n",
       "      <td>30-10-1995</td>\n",
       "      <td>Toy Story</td>\n",
       "      <td>[jealousy, toy, boy, friendship, friends, riva...</td>\n",
       "    </tr>\n",
       "    <tr>\n",
       "      <th>1</th>\n",
       "      <td>[{'cast_id': 1, 'character': 'Alan Parrish', '...</td>\n",
       "      <td>[Joe Johnston]</td>\n",
       "      <td>8844</td>\n",
       "      <td>[Adventure, Fantasy, Family]</td>\n",
       "      <td>Jumanji</td>\n",
       "      <td>When siblings Judy and Peter discover an encha...</td>\n",
       "      <td>15-12-1995</td>\n",
       "      <td>Jumanji</td>\n",
       "      <td>[board game, disappearance, based on children'...</td>\n",
       "    </tr>\n",
       "    <tr>\n",
       "      <th>2</th>\n",
       "      <td>[{'cast_id': 2, 'character': 'Max Goldman', 'c...</td>\n",
       "      <td>[Howard Deutch]</td>\n",
       "      <td>15602</td>\n",
       "      <td>[Romance, Comedy]</td>\n",
       "      <td>Grumpier Old Men</td>\n",
       "      <td>A family wedding reignites the ancient feud be...</td>\n",
       "      <td>22-12-1995</td>\n",
       "      <td>Grumpier Old Men</td>\n",
       "      <td>[fishing, best friend, duringcreditsstinger, o...</td>\n",
       "    </tr>\n",
       "    <tr>\n",
       "      <th>3</th>\n",
       "      <td>[{'cast_id': 1, 'character': \"Savannah 'Vannah...</td>\n",
       "      <td>[Forest Whitaker]</td>\n",
       "      <td>31357</td>\n",
       "      <td>[Comedy, Drama, Romance]</td>\n",
       "      <td>Waiting to Exhale</td>\n",
       "      <td>Cheated on, mistreated and stepped on, the wom...</td>\n",
       "      <td>22-12-1995</td>\n",
       "      <td>Waiting to Exhale</td>\n",
       "      <td>[based on novel, interracial relationship, sin...</td>\n",
       "    </tr>\n",
       "    <tr>\n",
       "      <th>4</th>\n",
       "      <td>[{'cast_id': 1, 'character': 'George Banks', '...</td>\n",
       "      <td>[Charles Shyer]</td>\n",
       "      <td>11862</td>\n",
       "      <td>[Comedy]</td>\n",
       "      <td>Father of the Bride Part II</td>\n",
       "      <td>Just when George Banks has recovered from his ...</td>\n",
       "      <td>10-02-1995</td>\n",
       "      <td>Father of the Bride Part II</td>\n",
       "      <td>[baby, midlife crisis, confidence, aging, daug...</td>\n",
       "    </tr>\n",
       "  </tbody>\n",
       "</table>\n",
       "</div>"
      ],
      "text/plain": [
       "                                                cast               crew  \\\n",
       "0  [{'cast_id': 14, 'character': 'Woody (voice)',...    [John Lasseter]   \n",
       "1  [{'cast_id': 1, 'character': 'Alan Parrish', '...     [Joe Johnston]   \n",
       "2  [{'cast_id': 2, 'character': 'Max Goldman', 'c...    [Howard Deutch]   \n",
       "3  [{'cast_id': 1, 'character': \"Savannah 'Vannah...  [Forest Whitaker]   \n",
       "4  [{'cast_id': 1, 'character': 'George Banks', '...    [Charles Shyer]   \n",
       "\n",
       "  movieid                        genres               original_title  \\\n",
       "0     862   [Animation, Comedy, Family]                    Toy Story   \n",
       "1    8844  [Adventure, Fantasy, Family]                      Jumanji   \n",
       "2   15602             [Romance, Comedy]             Grumpier Old Men   \n",
       "3   31357      [Comedy, Drama, Romance]            Waiting to Exhale   \n",
       "4   11862                      [Comedy]  Father of the Bride Part II   \n",
       "\n",
       "                                            overview release_date  \\\n",
       "0  Led by Woody, Andy's toys live happily in his ...   30-10-1995   \n",
       "1  When siblings Judy and Peter discover an encha...   15-12-1995   \n",
       "2  A family wedding reignites the ancient feud be...   22-12-1995   \n",
       "3  Cheated on, mistreated and stepped on, the wom...   22-12-1995   \n",
       "4  Just when George Banks has recovered from his ...   10-02-1995   \n",
       "\n",
       "                         title  \\\n",
       "0                    Toy Story   \n",
       "1                      Jumanji   \n",
       "2             Grumpier Old Men   \n",
       "3            Waiting to Exhale   \n",
       "4  Father of the Bride Part II   \n",
       "\n",
       "                                            keywords  \n",
       "0  [jealousy, toy, boy, friendship, friends, riva...  \n",
       "1  [board game, disappearance, based on children'...  \n",
       "2  [fishing, best friend, duringcreditsstinger, o...  \n",
       "3  [based on novel, interracial relationship, sin...  \n",
       "4  [baby, midlife crisis, confidence, aging, daug...  "
      ]
     },
     "execution_count": 40,
     "metadata": {},
     "output_type": "execute_result"
    }
   ],
   "source": [
    "up_df['crew'] = up_df['crew'].apply(fetchthedirector)\n",
    "up_df.head()"
   ]
  },
  {
   "cell_type": "code",
   "execution_count": 41,
   "metadata": {},
   "outputs": [
    {
     "data": {
      "text/html": [
       "<div>\n",
       "<style scoped>\n",
       "    .dataframe tbody tr th:only-of-type {\n",
       "        vertical-align: middle;\n",
       "    }\n",
       "\n",
       "    .dataframe tbody tr th {\n",
       "        vertical-align: top;\n",
       "    }\n",
       "\n",
       "    .dataframe thead th {\n",
       "        text-align: right;\n",
       "    }\n",
       "</style>\n",
       "<table border=\"1\" class=\"dataframe\">\n",
       "  <thead>\n",
       "    <tr style=\"text-align: right;\">\n",
       "      <th></th>\n",
       "      <th>cast</th>\n",
       "      <th>crew</th>\n",
       "      <th>movieid</th>\n",
       "      <th>genres</th>\n",
       "      <th>original_title</th>\n",
       "      <th>overview</th>\n",
       "      <th>release_date</th>\n",
       "      <th>title</th>\n",
       "      <th>keywords</th>\n",
       "    </tr>\n",
       "  </thead>\n",
       "  <tbody>\n",
       "    <tr>\n",
       "      <th>0</th>\n",
       "      <td>[{'cast_id': 14, 'character': 'Woody (voice)',...</td>\n",
       "      <td>[John Lasseter]</td>\n",
       "      <td>862</td>\n",
       "      <td>[Animation, Comedy, Family]</td>\n",
       "      <td>Toy Story</td>\n",
       "      <td>Led by Woody, Andy's toys live happily in his ...</td>\n",
       "      <td>30-10-1995</td>\n",
       "      <td>Toy Story</td>\n",
       "      <td>[jealousy, toy, boy, friendship, friends, riva...</td>\n",
       "    </tr>\n",
       "    <tr>\n",
       "      <th>1</th>\n",
       "      <td>[{'cast_id': 1, 'character': 'Alan Parrish', '...</td>\n",
       "      <td>[Joe Johnston]</td>\n",
       "      <td>8844</td>\n",
       "      <td>[Adventure, Fantasy, Family]</td>\n",
       "      <td>Jumanji</td>\n",
       "      <td>When siblings Judy and Peter discover an encha...</td>\n",
       "      <td>15-12-1995</td>\n",
       "      <td>Jumanji</td>\n",
       "      <td>[board game, disappearance, based on children'...</td>\n",
       "    </tr>\n",
       "    <tr>\n",
       "      <th>2</th>\n",
       "      <td>[{'cast_id': 2, 'character': 'Max Goldman', 'c...</td>\n",
       "      <td>[Howard Deutch]</td>\n",
       "      <td>15602</td>\n",
       "      <td>[Romance, Comedy]</td>\n",
       "      <td>Grumpier Old Men</td>\n",
       "      <td>A family wedding reignites the ancient feud be...</td>\n",
       "      <td>22-12-1995</td>\n",
       "      <td>Grumpier Old Men</td>\n",
       "      <td>[fishing, best friend, duringcreditsstinger, o...</td>\n",
       "    </tr>\n",
       "    <tr>\n",
       "      <th>3</th>\n",
       "      <td>[{'cast_id': 1, 'character': \"Savannah 'Vannah...</td>\n",
       "      <td>[Forest Whitaker]</td>\n",
       "      <td>31357</td>\n",
       "      <td>[Comedy, Drama, Romance]</td>\n",
       "      <td>Waiting to Exhale</td>\n",
       "      <td>Cheated on, mistreated and stepped on, the wom...</td>\n",
       "      <td>22-12-1995</td>\n",
       "      <td>Waiting to Exhale</td>\n",
       "      <td>[based on novel, interracial relationship, sin...</td>\n",
       "    </tr>\n",
       "    <tr>\n",
       "      <th>4</th>\n",
       "      <td>[{'cast_id': 1, 'character': 'George Banks', '...</td>\n",
       "      <td>[Charles Shyer]</td>\n",
       "      <td>11862</td>\n",
       "      <td>[Comedy]</td>\n",
       "      <td>Father of the Bride Part II</td>\n",
       "      <td>Just when George Banks has recovered from his ...</td>\n",
       "      <td>10-02-1995</td>\n",
       "      <td>Father of the Bride Part II</td>\n",
       "      <td>[baby, midlife crisis, confidence, aging, daug...</td>\n",
       "    </tr>\n",
       "  </tbody>\n",
       "</table>\n",
       "</div>"
      ],
      "text/plain": [
       "                                                cast               crew  \\\n",
       "0  [{'cast_id': 14, 'character': 'Woody (voice)',...    [John Lasseter]   \n",
       "1  [{'cast_id': 1, 'character': 'Alan Parrish', '...     [Joe Johnston]   \n",
       "2  [{'cast_id': 2, 'character': 'Max Goldman', 'c...    [Howard Deutch]   \n",
       "3  [{'cast_id': 1, 'character': \"Savannah 'Vannah...  [Forest Whitaker]   \n",
       "4  [{'cast_id': 1, 'character': 'George Banks', '...    [Charles Shyer]   \n",
       "\n",
       "  movieid                        genres               original_title  \\\n",
       "0     862   [Animation, Comedy, Family]                    Toy Story   \n",
       "1    8844  [Adventure, Fantasy, Family]                      Jumanji   \n",
       "2   15602             [Romance, Comedy]             Grumpier Old Men   \n",
       "3   31357      [Comedy, Drama, Romance]            Waiting to Exhale   \n",
       "4   11862                      [Comedy]  Father of the Bride Part II   \n",
       "\n",
       "                                            overview release_date  \\\n",
       "0  Led by Woody, Andy's toys live happily in his ...   30-10-1995   \n",
       "1  When siblings Judy and Peter discover an encha...   15-12-1995   \n",
       "2  A family wedding reignites the ancient feud be...   22-12-1995   \n",
       "3  Cheated on, mistreated and stepped on, the wom...   22-12-1995   \n",
       "4  Just when George Banks has recovered from his ...   10-02-1995   \n",
       "\n",
       "                         title  \\\n",
       "0                    Toy Story   \n",
       "1                      Jumanji   \n",
       "2             Grumpier Old Men   \n",
       "3            Waiting to Exhale   \n",
       "4  Father of the Bride Part II   \n",
       "\n",
       "                                            keywords  \n",
       "0  [jealousy, toy, boy, friendship, friends, riva...  \n",
       "1  [board game, disappearance, based on children'...  \n",
       "2  [fishing, best friend, duringcreditsstinger, o...  \n",
       "3  [based on novel, interracial relationship, sin...  \n",
       "4  [baby, midlife crisis, confidence, aging, daug...  "
      ]
     },
     "execution_count": 41,
     "metadata": {},
     "output_type": "execute_result"
    }
   ],
   "source": [
    "up_df.head()"
   ]
  },
  {
   "cell_type": "code",
   "execution_count": 42,
   "metadata": {},
   "outputs": [
    {
     "name": "stdout",
     "output_type": "stream",
     "text": [
      "                                                    cast  \\\n",
      "0      [{'cast_id': 14, 'character': 'Woody (voice)',...   \n",
      "1      [{'cast_id': 1, 'character': 'Alan Parrish', '...   \n",
      "2      [{'cast_id': 2, 'character': 'Max Goldman', 'c...   \n",
      "3      [{'cast_id': 1, 'character': 'Savannah 'Vannah...   \n",
      "4      [{'cast_id': 1, 'character': 'George Banks', '...   \n",
      "...                                                  ...   \n",
      "45525  [{'cast_id': 1, 'character': 'Sir Robert Hode'...   \n",
      "45526  [{'cast_id': 1002, 'character': 'Sister Angela...   \n",
      "45527  [{'cast_id': 6, 'character': 'Emily Shaw', 'cr...   \n",
      "45528  [{'cast_id': 2, 'character': '', 'credit_id': ...   \n",
      "45529                                                 []   \n",
      "\n",
      "                                               top3_cast  \n",
      "0      [{'cast_id': 14, 'character': 'Woody (voice)',...  \n",
      "1      [{'cast_id': 1, 'character': 'Alan Parrish', '...  \n",
      "2      [{'cast_id': 2, 'character': 'Max Goldman', 'c...  \n",
      "3      [{'cast_id': 1, 'character': 'Savannah 'Vannah...  \n",
      "4      [{'cast_id': 1, 'character': 'George Banks', '...  \n",
      "...                                                  ...  \n",
      "45525  [{'cast_id': 1, 'character': 'Sir Robert Hode'...  \n",
      "45526  [{'cast_id': 1002, 'character': 'Sister Angela...  \n",
      "45527  [{'cast_id': 6, 'character': 'Emily Shaw', 'cr...  \n",
      "45528  [{'cast_id': 2, 'character': '', 'credit_id': ...  \n",
      "45529                                                 []  \n",
      "\n",
      "[45530 rows x 2 columns]\n"
     ]
    }
   ],
   "source": [
    "  # Import the ast module for literal_eval\n",
    "\n",
    "# Assuming up_df is your existing DataFrame with a 'cast' column\n",
    "\n",
    "# Convert string representations to dictionaries using ast.literal_eval\n",
    "up_df['cast'] = up_df['cast'].apply(ast.literal_eval)\n",
    "\n",
    "# Function to extract the top 3 cast members for a given row\n",
    "def extract_top3_cast(row):\n",
    "    # Sorting the cast list based on the 'order' key\n",
    "    sorted_cast = sorted(row, key=lambda x: x.get('order', 0))\n",
    "    # Extracting the information for the top 3 cast members\n",
    "    top3_cast_info = sorted_cast[:3]\n",
    "    return top3_cast_info\n",
    "\n",
    "# Applying the function to the 'cast' column to create a new column 'top3_cast'\n",
    "up_df['top3_cast'] = up_df['cast'].apply(extract_top3_cast)\n",
    "\n",
    "# Displaying the resulting DataFrame\n",
    "print(up_df[['cast', 'top3_cast']])\n"
   ]
  },
  {
   "cell_type": "code",
   "execution_count": 43,
   "metadata": {},
   "outputs": [
    {
     "data": {
      "text/html": [
       "<div>\n",
       "<style scoped>\n",
       "    .dataframe tbody tr th:only-of-type {\n",
       "        vertical-align: middle;\n",
       "    }\n",
       "\n",
       "    .dataframe tbody tr th {\n",
       "        vertical-align: top;\n",
       "    }\n",
       "\n",
       "    .dataframe thead th {\n",
       "        text-align: right;\n",
       "    }\n",
       "</style>\n",
       "<table border=\"1\" class=\"dataframe\">\n",
       "  <thead>\n",
       "    <tr style=\"text-align: right;\">\n",
       "      <th></th>\n",
       "      <th>cast</th>\n",
       "      <th>crew</th>\n",
       "      <th>movieid</th>\n",
       "      <th>genres</th>\n",
       "      <th>original_title</th>\n",
       "      <th>overview</th>\n",
       "      <th>release_date</th>\n",
       "      <th>title</th>\n",
       "      <th>keywords</th>\n",
       "      <th>top3_cast</th>\n",
       "    </tr>\n",
       "  </thead>\n",
       "  <tbody>\n",
       "    <tr>\n",
       "      <th>0</th>\n",
       "      <td>[{'cast_id': 14, 'character': 'Woody (voice)',...</td>\n",
       "      <td>[John Lasseter]</td>\n",
       "      <td>862</td>\n",
       "      <td>[Animation, Comedy, Family]</td>\n",
       "      <td>Toy Story</td>\n",
       "      <td>Led by Woody, Andy's toys live happily in his ...</td>\n",
       "      <td>30-10-1995</td>\n",
       "      <td>Toy Story</td>\n",
       "      <td>[jealousy, toy, boy, friendship, friends, riva...</td>\n",
       "      <td>[{'cast_id': 14, 'character': 'Woody (voice)',...</td>\n",
       "    </tr>\n",
       "    <tr>\n",
       "      <th>1</th>\n",
       "      <td>[{'cast_id': 1, 'character': 'Alan Parrish', '...</td>\n",
       "      <td>[Joe Johnston]</td>\n",
       "      <td>8844</td>\n",
       "      <td>[Adventure, Fantasy, Family]</td>\n",
       "      <td>Jumanji</td>\n",
       "      <td>When siblings Judy and Peter discover an encha...</td>\n",
       "      <td>15-12-1995</td>\n",
       "      <td>Jumanji</td>\n",
       "      <td>[board game, disappearance, based on children'...</td>\n",
       "      <td>[{'cast_id': 1, 'character': 'Alan Parrish', '...</td>\n",
       "    </tr>\n",
       "    <tr>\n",
       "      <th>2</th>\n",
       "      <td>[{'cast_id': 2, 'character': 'Max Goldman', 'c...</td>\n",
       "      <td>[Howard Deutch]</td>\n",
       "      <td>15602</td>\n",
       "      <td>[Romance, Comedy]</td>\n",
       "      <td>Grumpier Old Men</td>\n",
       "      <td>A family wedding reignites the ancient feud be...</td>\n",
       "      <td>22-12-1995</td>\n",
       "      <td>Grumpier Old Men</td>\n",
       "      <td>[fishing, best friend, duringcreditsstinger, o...</td>\n",
       "      <td>[{'cast_id': 2, 'character': 'Max Goldman', 'c...</td>\n",
       "    </tr>\n",
       "    <tr>\n",
       "      <th>3</th>\n",
       "      <td>[{'cast_id': 1, 'character': 'Savannah 'Vannah...</td>\n",
       "      <td>[Forest Whitaker]</td>\n",
       "      <td>31357</td>\n",
       "      <td>[Comedy, Drama, Romance]</td>\n",
       "      <td>Waiting to Exhale</td>\n",
       "      <td>Cheated on, mistreated and stepped on, the wom...</td>\n",
       "      <td>22-12-1995</td>\n",
       "      <td>Waiting to Exhale</td>\n",
       "      <td>[based on novel, interracial relationship, sin...</td>\n",
       "      <td>[{'cast_id': 1, 'character': 'Savannah 'Vannah...</td>\n",
       "    </tr>\n",
       "    <tr>\n",
       "      <th>4</th>\n",
       "      <td>[{'cast_id': 1, 'character': 'George Banks', '...</td>\n",
       "      <td>[Charles Shyer]</td>\n",
       "      <td>11862</td>\n",
       "      <td>[Comedy]</td>\n",
       "      <td>Father of the Bride Part II</td>\n",
       "      <td>Just when George Banks has recovered from his ...</td>\n",
       "      <td>10-02-1995</td>\n",
       "      <td>Father of the Bride Part II</td>\n",
       "      <td>[baby, midlife crisis, confidence, aging, daug...</td>\n",
       "      <td>[{'cast_id': 1, 'character': 'George Banks', '...</td>\n",
       "    </tr>\n",
       "  </tbody>\n",
       "</table>\n",
       "</div>"
      ],
      "text/plain": [
       "                                                cast               crew  \\\n",
       "0  [{'cast_id': 14, 'character': 'Woody (voice)',...    [John Lasseter]   \n",
       "1  [{'cast_id': 1, 'character': 'Alan Parrish', '...     [Joe Johnston]   \n",
       "2  [{'cast_id': 2, 'character': 'Max Goldman', 'c...    [Howard Deutch]   \n",
       "3  [{'cast_id': 1, 'character': 'Savannah 'Vannah...  [Forest Whitaker]   \n",
       "4  [{'cast_id': 1, 'character': 'George Banks', '...    [Charles Shyer]   \n",
       "\n",
       "  movieid                        genres               original_title  \\\n",
       "0     862   [Animation, Comedy, Family]                    Toy Story   \n",
       "1    8844  [Adventure, Fantasy, Family]                      Jumanji   \n",
       "2   15602             [Romance, Comedy]             Grumpier Old Men   \n",
       "3   31357      [Comedy, Drama, Romance]            Waiting to Exhale   \n",
       "4   11862                      [Comedy]  Father of the Bride Part II   \n",
       "\n",
       "                                            overview release_date  \\\n",
       "0  Led by Woody, Andy's toys live happily in his ...   30-10-1995   \n",
       "1  When siblings Judy and Peter discover an encha...   15-12-1995   \n",
       "2  A family wedding reignites the ancient feud be...   22-12-1995   \n",
       "3  Cheated on, mistreated and stepped on, the wom...   22-12-1995   \n",
       "4  Just when George Banks has recovered from his ...   10-02-1995   \n",
       "\n",
       "                         title  \\\n",
       "0                    Toy Story   \n",
       "1                      Jumanji   \n",
       "2             Grumpier Old Men   \n",
       "3            Waiting to Exhale   \n",
       "4  Father of the Bride Part II   \n",
       "\n",
       "                                            keywords  \\\n",
       "0  [jealousy, toy, boy, friendship, friends, riva...   \n",
       "1  [board game, disappearance, based on children'...   \n",
       "2  [fishing, best friend, duringcreditsstinger, o...   \n",
       "3  [based on novel, interracial relationship, sin...   \n",
       "4  [baby, midlife crisis, confidence, aging, daug...   \n",
       "\n",
       "                                           top3_cast  \n",
       "0  [{'cast_id': 14, 'character': 'Woody (voice)',...  \n",
       "1  [{'cast_id': 1, 'character': 'Alan Parrish', '...  \n",
       "2  [{'cast_id': 2, 'character': 'Max Goldman', 'c...  \n",
       "3  [{'cast_id': 1, 'character': 'Savannah 'Vannah...  \n",
       "4  [{'cast_id': 1, 'character': 'George Banks', '...  "
      ]
     },
     "execution_count": 43,
     "metadata": {},
     "output_type": "execute_result"
    }
   ],
   "source": [
    "up_df.head()"
   ]
  },
  {
   "cell_type": "code",
   "execution_count": 44,
   "metadata": {},
   "outputs": [],
   "source": [
    "def conve4(var):\n",
    "    L = []\n",
    "    counter = 0 \n",
    "    \n",
    "    for i in var:\n",
    "        if counter < 3:\n",
    "            L.append(i['name'])\n",
    "            counter += 1\n",
    "            \n",
    "    return L\n"
   ]
  },
  {
   "cell_type": "code",
   "execution_count": 45,
   "metadata": {},
   "outputs": [
    {
     "data": {
      "text/html": [
       "<div>\n",
       "<style scoped>\n",
       "    .dataframe tbody tr th:only-of-type {\n",
       "        vertical-align: middle;\n",
       "    }\n",
       "\n",
       "    .dataframe tbody tr th {\n",
       "        vertical-align: top;\n",
       "    }\n",
       "\n",
       "    .dataframe thead th {\n",
       "        text-align: right;\n",
       "    }\n",
       "</style>\n",
       "<table border=\"1\" class=\"dataframe\">\n",
       "  <thead>\n",
       "    <tr style=\"text-align: right;\">\n",
       "      <th></th>\n",
       "      <th>cast</th>\n",
       "      <th>crew</th>\n",
       "      <th>movieid</th>\n",
       "      <th>genres</th>\n",
       "      <th>original_title</th>\n",
       "      <th>overview</th>\n",
       "      <th>release_date</th>\n",
       "      <th>title</th>\n",
       "      <th>keywords</th>\n",
       "      <th>top3_cast</th>\n",
       "    </tr>\n",
       "  </thead>\n",
       "  <tbody>\n",
       "    <tr>\n",
       "      <th>0</th>\n",
       "      <td>[{'cast_id': 14, 'character': 'Woody (voice)',...</td>\n",
       "      <td>[John Lasseter]</td>\n",
       "      <td>862</td>\n",
       "      <td>[Animation, Comedy, Family]</td>\n",
       "      <td>Toy Story</td>\n",
       "      <td>Led by Woody, Andy's toys live happily in his ...</td>\n",
       "      <td>30-10-1995</td>\n",
       "      <td>Toy Story</td>\n",
       "      <td>[jealousy, toy, boy, friendship, friends, riva...</td>\n",
       "      <td>[Tom Hanks, Tim Allen, Don Rickles]</td>\n",
       "    </tr>\n",
       "    <tr>\n",
       "      <th>1</th>\n",
       "      <td>[{'cast_id': 1, 'character': 'Alan Parrish', '...</td>\n",
       "      <td>[Joe Johnston]</td>\n",
       "      <td>8844</td>\n",
       "      <td>[Adventure, Fantasy, Family]</td>\n",
       "      <td>Jumanji</td>\n",
       "      <td>When siblings Judy and Peter discover an encha...</td>\n",
       "      <td>15-12-1995</td>\n",
       "      <td>Jumanji</td>\n",
       "      <td>[board game, disappearance, based on children'...</td>\n",
       "      <td>[Robin Williams, Jonathan Hyde, Kirsten Dunst]</td>\n",
       "    </tr>\n",
       "    <tr>\n",
       "      <th>2</th>\n",
       "      <td>[{'cast_id': 2, 'character': 'Max Goldman', 'c...</td>\n",
       "      <td>[Howard Deutch]</td>\n",
       "      <td>15602</td>\n",
       "      <td>[Romance, Comedy]</td>\n",
       "      <td>Grumpier Old Men</td>\n",
       "      <td>A family wedding reignites the ancient feud be...</td>\n",
       "      <td>22-12-1995</td>\n",
       "      <td>Grumpier Old Men</td>\n",
       "      <td>[fishing, best friend, duringcreditsstinger, o...</td>\n",
       "      <td>[Walter Matthau, Jack Lemmon, Ann-Margret]</td>\n",
       "    </tr>\n",
       "    <tr>\n",
       "      <th>3</th>\n",
       "      <td>[{'cast_id': 1, 'character': 'Savannah 'Vannah...</td>\n",
       "      <td>[Forest Whitaker]</td>\n",
       "      <td>31357</td>\n",
       "      <td>[Comedy, Drama, Romance]</td>\n",
       "      <td>Waiting to Exhale</td>\n",
       "      <td>Cheated on, mistreated and stepped on, the wom...</td>\n",
       "      <td>22-12-1995</td>\n",
       "      <td>Waiting to Exhale</td>\n",
       "      <td>[based on novel, interracial relationship, sin...</td>\n",
       "      <td>[Whitney Houston, Angela Bassett, Loretta Devine]</td>\n",
       "    </tr>\n",
       "    <tr>\n",
       "      <th>4</th>\n",
       "      <td>[{'cast_id': 1, 'character': 'George Banks', '...</td>\n",
       "      <td>[Charles Shyer]</td>\n",
       "      <td>11862</td>\n",
       "      <td>[Comedy]</td>\n",
       "      <td>Father of the Bride Part II</td>\n",
       "      <td>Just when George Banks has recovered from his ...</td>\n",
       "      <td>10-02-1995</td>\n",
       "      <td>Father of the Bride Part II</td>\n",
       "      <td>[baby, midlife crisis, confidence, aging, daug...</td>\n",
       "      <td>[Steve Martin, Diane Keaton, Martin Short]</td>\n",
       "    </tr>\n",
       "  </tbody>\n",
       "</table>\n",
       "</div>"
      ],
      "text/plain": [
       "                                                cast               crew  \\\n",
       "0  [{'cast_id': 14, 'character': 'Woody (voice)',...    [John Lasseter]   \n",
       "1  [{'cast_id': 1, 'character': 'Alan Parrish', '...     [Joe Johnston]   \n",
       "2  [{'cast_id': 2, 'character': 'Max Goldman', 'c...    [Howard Deutch]   \n",
       "3  [{'cast_id': 1, 'character': 'Savannah 'Vannah...  [Forest Whitaker]   \n",
       "4  [{'cast_id': 1, 'character': 'George Banks', '...    [Charles Shyer]   \n",
       "\n",
       "  movieid                        genres               original_title  \\\n",
       "0     862   [Animation, Comedy, Family]                    Toy Story   \n",
       "1    8844  [Adventure, Fantasy, Family]                      Jumanji   \n",
       "2   15602             [Romance, Comedy]             Grumpier Old Men   \n",
       "3   31357      [Comedy, Drama, Romance]            Waiting to Exhale   \n",
       "4   11862                      [Comedy]  Father of the Bride Part II   \n",
       "\n",
       "                                            overview release_date  \\\n",
       "0  Led by Woody, Andy's toys live happily in his ...   30-10-1995   \n",
       "1  When siblings Judy and Peter discover an encha...   15-12-1995   \n",
       "2  A family wedding reignites the ancient feud be...   22-12-1995   \n",
       "3  Cheated on, mistreated and stepped on, the wom...   22-12-1995   \n",
       "4  Just when George Banks has recovered from his ...   10-02-1995   \n",
       "\n",
       "                         title  \\\n",
       "0                    Toy Story   \n",
       "1                      Jumanji   \n",
       "2             Grumpier Old Men   \n",
       "3            Waiting to Exhale   \n",
       "4  Father of the Bride Part II   \n",
       "\n",
       "                                            keywords  \\\n",
       "0  [jealousy, toy, boy, friendship, friends, riva...   \n",
       "1  [board game, disappearance, based on children'...   \n",
       "2  [fishing, best friend, duringcreditsstinger, o...   \n",
       "3  [based on novel, interracial relationship, sin...   \n",
       "4  [baby, midlife crisis, confidence, aging, daug...   \n",
       "\n",
       "                                           top3_cast  \n",
       "0                [Tom Hanks, Tim Allen, Don Rickles]  \n",
       "1     [Robin Williams, Jonathan Hyde, Kirsten Dunst]  \n",
       "2         [Walter Matthau, Jack Lemmon, Ann-Margret]  \n",
       "3  [Whitney Houston, Angela Bassett, Loretta Devine]  \n",
       "4         [Steve Martin, Diane Keaton, Martin Short]  "
      ]
     },
     "execution_count": 45,
     "metadata": {},
     "output_type": "execute_result"
    }
   ],
   "source": [
    " up_df['top3_cast'] = up_df['top3_cast'].apply(conve4)\n",
    " up_df.head()"
   ]
  },
  {
   "cell_type": "code",
   "execution_count": 46,
   "metadata": {},
   "outputs": [
    {
     "data": {
      "text/html": [
       "<div>\n",
       "<style scoped>\n",
       "    .dataframe tbody tr th:only-of-type {\n",
       "        vertical-align: middle;\n",
       "    }\n",
       "\n",
       "    .dataframe tbody tr th {\n",
       "        vertical-align: top;\n",
       "    }\n",
       "\n",
       "    .dataframe thead th {\n",
       "        text-align: right;\n",
       "    }\n",
       "</style>\n",
       "<table border=\"1\" class=\"dataframe\">\n",
       "  <thead>\n",
       "    <tr style=\"text-align: right;\">\n",
       "      <th></th>\n",
       "      <th>crew</th>\n",
       "      <th>movieid</th>\n",
       "      <th>genres</th>\n",
       "      <th>original_title</th>\n",
       "      <th>overview</th>\n",
       "      <th>release_date</th>\n",
       "      <th>title</th>\n",
       "      <th>keywords</th>\n",
       "      <th>top3_cast</th>\n",
       "    </tr>\n",
       "  </thead>\n",
       "  <tbody>\n",
       "    <tr>\n",
       "      <th>0</th>\n",
       "      <td>[John Lasseter]</td>\n",
       "      <td>862</td>\n",
       "      <td>[Animation, Comedy, Family]</td>\n",
       "      <td>Toy Story</td>\n",
       "      <td>Led by Woody, Andy's toys live happily in his ...</td>\n",
       "      <td>30-10-1995</td>\n",
       "      <td>Toy Story</td>\n",
       "      <td>[jealousy, toy, boy, friendship, friends, riva...</td>\n",
       "      <td>[Tom Hanks, Tim Allen, Don Rickles]</td>\n",
       "    </tr>\n",
       "    <tr>\n",
       "      <th>1</th>\n",
       "      <td>[Joe Johnston]</td>\n",
       "      <td>8844</td>\n",
       "      <td>[Adventure, Fantasy, Family]</td>\n",
       "      <td>Jumanji</td>\n",
       "      <td>When siblings Judy and Peter discover an encha...</td>\n",
       "      <td>15-12-1995</td>\n",
       "      <td>Jumanji</td>\n",
       "      <td>[board game, disappearance, based on children'...</td>\n",
       "      <td>[Robin Williams, Jonathan Hyde, Kirsten Dunst]</td>\n",
       "    </tr>\n",
       "    <tr>\n",
       "      <th>2</th>\n",
       "      <td>[Howard Deutch]</td>\n",
       "      <td>15602</td>\n",
       "      <td>[Romance, Comedy]</td>\n",
       "      <td>Grumpier Old Men</td>\n",
       "      <td>A family wedding reignites the ancient feud be...</td>\n",
       "      <td>22-12-1995</td>\n",
       "      <td>Grumpier Old Men</td>\n",
       "      <td>[fishing, best friend, duringcreditsstinger, o...</td>\n",
       "      <td>[Walter Matthau, Jack Lemmon, Ann-Margret]</td>\n",
       "    </tr>\n",
       "    <tr>\n",
       "      <th>3</th>\n",
       "      <td>[Forest Whitaker]</td>\n",
       "      <td>31357</td>\n",
       "      <td>[Comedy, Drama, Romance]</td>\n",
       "      <td>Waiting to Exhale</td>\n",
       "      <td>Cheated on, mistreated and stepped on, the wom...</td>\n",
       "      <td>22-12-1995</td>\n",
       "      <td>Waiting to Exhale</td>\n",
       "      <td>[based on novel, interracial relationship, sin...</td>\n",
       "      <td>[Whitney Houston, Angela Bassett, Loretta Devine]</td>\n",
       "    </tr>\n",
       "    <tr>\n",
       "      <th>4</th>\n",
       "      <td>[Charles Shyer]</td>\n",
       "      <td>11862</td>\n",
       "      <td>[Comedy]</td>\n",
       "      <td>Father of the Bride Part II</td>\n",
       "      <td>Just when George Banks has recovered from his ...</td>\n",
       "      <td>10-02-1995</td>\n",
       "      <td>Father of the Bride Part II</td>\n",
       "      <td>[baby, midlife crisis, confidence, aging, daug...</td>\n",
       "      <td>[Steve Martin, Diane Keaton, Martin Short]</td>\n",
       "    </tr>\n",
       "  </tbody>\n",
       "</table>\n",
       "</div>"
      ],
      "text/plain": [
       "                crew movieid                        genres  \\\n",
       "0    [John Lasseter]     862   [Animation, Comedy, Family]   \n",
       "1     [Joe Johnston]    8844  [Adventure, Fantasy, Family]   \n",
       "2    [Howard Deutch]   15602             [Romance, Comedy]   \n",
       "3  [Forest Whitaker]   31357      [Comedy, Drama, Romance]   \n",
       "4    [Charles Shyer]   11862                      [Comedy]   \n",
       "\n",
       "                original_title  \\\n",
       "0                    Toy Story   \n",
       "1                      Jumanji   \n",
       "2             Grumpier Old Men   \n",
       "3            Waiting to Exhale   \n",
       "4  Father of the Bride Part II   \n",
       "\n",
       "                                            overview release_date  \\\n",
       "0  Led by Woody, Andy's toys live happily in his ...   30-10-1995   \n",
       "1  When siblings Judy and Peter discover an encha...   15-12-1995   \n",
       "2  A family wedding reignites the ancient feud be...   22-12-1995   \n",
       "3  Cheated on, mistreated and stepped on, the wom...   22-12-1995   \n",
       "4  Just when George Banks has recovered from his ...   10-02-1995   \n",
       "\n",
       "                         title  \\\n",
       "0                    Toy Story   \n",
       "1                      Jumanji   \n",
       "2             Grumpier Old Men   \n",
       "3            Waiting to Exhale   \n",
       "4  Father of the Bride Part II   \n",
       "\n",
       "                                            keywords  \\\n",
       "0  [jealousy, toy, boy, friendship, friends, riva...   \n",
       "1  [board game, disappearance, based on children'...   \n",
       "2  [fishing, best friend, duringcreditsstinger, o...   \n",
       "3  [based on novel, interracial relationship, sin...   \n",
       "4  [baby, midlife crisis, confidence, aging, daug...   \n",
       "\n",
       "                                           top3_cast  \n",
       "0                [Tom Hanks, Tim Allen, Don Rickles]  \n",
       "1     [Robin Williams, Jonathan Hyde, Kirsten Dunst]  \n",
       "2         [Walter Matthau, Jack Lemmon, Ann-Margret]  \n",
       "3  [Whitney Houston, Angela Bassett, Loretta Devine]  \n",
       "4         [Steve Martin, Diane Keaton, Martin Short]  "
      ]
     },
     "execution_count": 46,
     "metadata": {},
     "output_type": "execute_result"
    }
   ],
   "source": [
    "up_df.drop(columns=['cast'], inplace=True)\n",
    "up_df.head()"
   ]
  },
  {
   "cell_type": "code",
   "execution_count": 47,
   "metadata": {},
   "outputs": [],
   "source": [
    "up_df['overview'] = up_df['overview'].apply(lambda x:x.split())\n",
    " #converting overview into list using lamda function"
   ]
  },
  {
   "cell_type": "code",
   "execution_count": 48,
   "metadata": {},
   "outputs": [
    {
     "data": {
      "text/html": [
       "<div>\n",
       "<style scoped>\n",
       "    .dataframe tbody tr th:only-of-type {\n",
       "        vertical-align: middle;\n",
       "    }\n",
       "\n",
       "    .dataframe tbody tr th {\n",
       "        vertical-align: top;\n",
       "    }\n",
       "\n",
       "    .dataframe thead th {\n",
       "        text-align: right;\n",
       "    }\n",
       "</style>\n",
       "<table border=\"1\" class=\"dataframe\">\n",
       "  <thead>\n",
       "    <tr style=\"text-align: right;\">\n",
       "      <th></th>\n",
       "      <th>crew</th>\n",
       "      <th>movieid</th>\n",
       "      <th>genres</th>\n",
       "      <th>original_title</th>\n",
       "      <th>overview</th>\n",
       "      <th>release_date</th>\n",
       "      <th>title</th>\n",
       "      <th>keywords</th>\n",
       "      <th>top3_cast</th>\n",
       "    </tr>\n",
       "  </thead>\n",
       "  <tbody>\n",
       "    <tr>\n",
       "      <th>0</th>\n",
       "      <td>[John Lasseter]</td>\n",
       "      <td>862</td>\n",
       "      <td>[Animation, Comedy, Family]</td>\n",
       "      <td>Toy Story</td>\n",
       "      <td>[Led, by, Woody,, Andy's, toys, live, happily,...</td>\n",
       "      <td>30-10-1995</td>\n",
       "      <td>Toy Story</td>\n",
       "      <td>[jealousy, toy, boy, friendship, friends, riva...</td>\n",
       "      <td>[Tom Hanks, Tim Allen, Don Rickles]</td>\n",
       "    </tr>\n",
       "    <tr>\n",
       "      <th>1</th>\n",
       "      <td>[Joe Johnston]</td>\n",
       "      <td>8844</td>\n",
       "      <td>[Adventure, Fantasy, Family]</td>\n",
       "      <td>Jumanji</td>\n",
       "      <td>[When, siblings, Judy, and, Peter, discover, a...</td>\n",
       "      <td>15-12-1995</td>\n",
       "      <td>Jumanji</td>\n",
       "      <td>[board game, disappearance, based on children'...</td>\n",
       "      <td>[Robin Williams, Jonathan Hyde, Kirsten Dunst]</td>\n",
       "    </tr>\n",
       "    <tr>\n",
       "      <th>2</th>\n",
       "      <td>[Howard Deutch]</td>\n",
       "      <td>15602</td>\n",
       "      <td>[Romance, Comedy]</td>\n",
       "      <td>Grumpier Old Men</td>\n",
       "      <td>[A, family, wedding, reignites, the, ancient, ...</td>\n",
       "      <td>22-12-1995</td>\n",
       "      <td>Grumpier Old Men</td>\n",
       "      <td>[fishing, best friend, duringcreditsstinger, o...</td>\n",
       "      <td>[Walter Matthau, Jack Lemmon, Ann-Margret]</td>\n",
       "    </tr>\n",
       "    <tr>\n",
       "      <th>3</th>\n",
       "      <td>[Forest Whitaker]</td>\n",
       "      <td>31357</td>\n",
       "      <td>[Comedy, Drama, Romance]</td>\n",
       "      <td>Waiting to Exhale</td>\n",
       "      <td>[Cheated, on,, mistreated, and, stepped, on,, ...</td>\n",
       "      <td>22-12-1995</td>\n",
       "      <td>Waiting to Exhale</td>\n",
       "      <td>[based on novel, interracial relationship, sin...</td>\n",
       "      <td>[Whitney Houston, Angela Bassett, Loretta Devine]</td>\n",
       "    </tr>\n",
       "    <tr>\n",
       "      <th>4</th>\n",
       "      <td>[Charles Shyer]</td>\n",
       "      <td>11862</td>\n",
       "      <td>[Comedy]</td>\n",
       "      <td>Father of the Bride Part II</td>\n",
       "      <td>[Just, when, George, Banks, has, recovered, fr...</td>\n",
       "      <td>10-02-1995</td>\n",
       "      <td>Father of the Bride Part II</td>\n",
       "      <td>[baby, midlife crisis, confidence, aging, daug...</td>\n",
       "      <td>[Steve Martin, Diane Keaton, Martin Short]</td>\n",
       "    </tr>\n",
       "  </tbody>\n",
       "</table>\n",
       "</div>"
      ],
      "text/plain": [
       "                crew movieid                        genres  \\\n",
       "0    [John Lasseter]     862   [Animation, Comedy, Family]   \n",
       "1     [Joe Johnston]    8844  [Adventure, Fantasy, Family]   \n",
       "2    [Howard Deutch]   15602             [Romance, Comedy]   \n",
       "3  [Forest Whitaker]   31357      [Comedy, Drama, Romance]   \n",
       "4    [Charles Shyer]   11862                      [Comedy]   \n",
       "\n",
       "                original_title  \\\n",
       "0                    Toy Story   \n",
       "1                      Jumanji   \n",
       "2             Grumpier Old Men   \n",
       "3            Waiting to Exhale   \n",
       "4  Father of the Bride Part II   \n",
       "\n",
       "                                            overview release_date  \\\n",
       "0  [Led, by, Woody,, Andy's, toys, live, happily,...   30-10-1995   \n",
       "1  [When, siblings, Judy, and, Peter, discover, a...   15-12-1995   \n",
       "2  [A, family, wedding, reignites, the, ancient, ...   22-12-1995   \n",
       "3  [Cheated, on,, mistreated, and, stepped, on,, ...   22-12-1995   \n",
       "4  [Just, when, George, Banks, has, recovered, fr...   10-02-1995   \n",
       "\n",
       "                         title  \\\n",
       "0                    Toy Story   \n",
       "1                      Jumanji   \n",
       "2             Grumpier Old Men   \n",
       "3            Waiting to Exhale   \n",
       "4  Father of the Bride Part II   \n",
       "\n",
       "                                            keywords  \\\n",
       "0  [jealousy, toy, boy, friendship, friends, riva...   \n",
       "1  [board game, disappearance, based on children'...   \n",
       "2  [fishing, best friend, duringcreditsstinger, o...   \n",
       "3  [based on novel, interracial relationship, sin...   \n",
       "4  [baby, midlife crisis, confidence, aging, daug...   \n",
       "\n",
       "                                           top3_cast  \n",
       "0                [Tom Hanks, Tim Allen, Don Rickles]  \n",
       "1     [Robin Williams, Jonathan Hyde, Kirsten Dunst]  \n",
       "2         [Walter Matthau, Jack Lemmon, Ann-Margret]  \n",
       "3  [Whitney Houston, Angela Bassett, Loretta Devine]  \n",
       "4         [Steve Martin, Diane Keaton, Martin Short]  "
      ]
     },
     "execution_count": 48,
     "metadata": {},
     "output_type": "execute_result"
    }
   ],
   "source": [
    "up_df.head()"
   ]
  },
  {
   "cell_type": "code",
   "execution_count": 49,
   "metadata": {},
   "outputs": [],
   "source": [
    "up_df['tags'] = up_df['overview'] + up_df['genres'] + up_df['keywords'] + up_df['top3_cast'] + up_df['crew']#merging them into one "
   ]
  },
  {
   "cell_type": "code",
   "execution_count": 50,
   "metadata": {},
   "outputs": [
    {
     "data": {
      "text/plain": [
       "(45530, 10)"
      ]
     },
     "execution_count": 50,
     "metadata": {},
     "output_type": "execute_result"
    }
   ],
   "source": [
    "up_df.shape"
   ]
  },
  {
   "cell_type": "code",
   "execution_count": 51,
   "metadata": {},
   "outputs": [
    {
     "data": {
      "text/html": [
       "<div>\n",
       "<style scoped>\n",
       "    .dataframe tbody tr th:only-of-type {\n",
       "        vertical-align: middle;\n",
       "    }\n",
       "\n",
       "    .dataframe tbody tr th {\n",
       "        vertical-align: top;\n",
       "    }\n",
       "\n",
       "    .dataframe thead th {\n",
       "        text-align: right;\n",
       "    }\n",
       "</style>\n",
       "<table border=\"1\" class=\"dataframe\">\n",
       "  <thead>\n",
       "    <tr style=\"text-align: right;\">\n",
       "      <th></th>\n",
       "      <th>crew</th>\n",
       "      <th>movieid</th>\n",
       "      <th>genres</th>\n",
       "      <th>original_title</th>\n",
       "      <th>overview</th>\n",
       "      <th>release_date</th>\n",
       "      <th>title</th>\n",
       "      <th>keywords</th>\n",
       "      <th>top3_cast</th>\n",
       "      <th>tags</th>\n",
       "    </tr>\n",
       "  </thead>\n",
       "  <tbody>\n",
       "    <tr>\n",
       "      <th>0</th>\n",
       "      <td>[John Lasseter]</td>\n",
       "      <td>862</td>\n",
       "      <td>[Animation, Comedy, Family]</td>\n",
       "      <td>Toy Story</td>\n",
       "      <td>[Led, by, Woody,, Andy's, toys, live, happily,...</td>\n",
       "      <td>30-10-1995</td>\n",
       "      <td>Toy Story</td>\n",
       "      <td>[jealousy, toy, boy, friendship, friends, riva...</td>\n",
       "      <td>[Tom Hanks, Tim Allen, Don Rickles]</td>\n",
       "      <td>[Led, by, Woody,, Andy's, toys, live, happily,...</td>\n",
       "    </tr>\n",
       "    <tr>\n",
       "      <th>1</th>\n",
       "      <td>[Joe Johnston]</td>\n",
       "      <td>8844</td>\n",
       "      <td>[Adventure, Fantasy, Family]</td>\n",
       "      <td>Jumanji</td>\n",
       "      <td>[When, siblings, Judy, and, Peter, discover, a...</td>\n",
       "      <td>15-12-1995</td>\n",
       "      <td>Jumanji</td>\n",
       "      <td>[board game, disappearance, based on children'...</td>\n",
       "      <td>[Robin Williams, Jonathan Hyde, Kirsten Dunst]</td>\n",
       "      <td>[When, siblings, Judy, and, Peter, discover, a...</td>\n",
       "    </tr>\n",
       "    <tr>\n",
       "      <th>2</th>\n",
       "      <td>[Howard Deutch]</td>\n",
       "      <td>15602</td>\n",
       "      <td>[Romance, Comedy]</td>\n",
       "      <td>Grumpier Old Men</td>\n",
       "      <td>[A, family, wedding, reignites, the, ancient, ...</td>\n",
       "      <td>22-12-1995</td>\n",
       "      <td>Grumpier Old Men</td>\n",
       "      <td>[fishing, best friend, duringcreditsstinger, o...</td>\n",
       "      <td>[Walter Matthau, Jack Lemmon, Ann-Margret]</td>\n",
       "      <td>[A, family, wedding, reignites, the, ancient, ...</td>\n",
       "    </tr>\n",
       "    <tr>\n",
       "      <th>3</th>\n",
       "      <td>[Forest Whitaker]</td>\n",
       "      <td>31357</td>\n",
       "      <td>[Comedy, Drama, Romance]</td>\n",
       "      <td>Waiting to Exhale</td>\n",
       "      <td>[Cheated, on,, mistreated, and, stepped, on,, ...</td>\n",
       "      <td>22-12-1995</td>\n",
       "      <td>Waiting to Exhale</td>\n",
       "      <td>[based on novel, interracial relationship, sin...</td>\n",
       "      <td>[Whitney Houston, Angela Bassett, Loretta Devine]</td>\n",
       "      <td>[Cheated, on,, mistreated, and, stepped, on,, ...</td>\n",
       "    </tr>\n",
       "    <tr>\n",
       "      <th>4</th>\n",
       "      <td>[Charles Shyer]</td>\n",
       "      <td>11862</td>\n",
       "      <td>[Comedy]</td>\n",
       "      <td>Father of the Bride Part II</td>\n",
       "      <td>[Just, when, George, Banks, has, recovered, fr...</td>\n",
       "      <td>10-02-1995</td>\n",
       "      <td>Father of the Bride Part II</td>\n",
       "      <td>[baby, midlife crisis, confidence, aging, daug...</td>\n",
       "      <td>[Steve Martin, Diane Keaton, Martin Short]</td>\n",
       "      <td>[Just, when, George, Banks, has, recovered, fr...</td>\n",
       "    </tr>\n",
       "  </tbody>\n",
       "</table>\n",
       "</div>"
      ],
      "text/plain": [
       "                crew movieid                        genres  \\\n",
       "0    [John Lasseter]     862   [Animation, Comedy, Family]   \n",
       "1     [Joe Johnston]    8844  [Adventure, Fantasy, Family]   \n",
       "2    [Howard Deutch]   15602             [Romance, Comedy]   \n",
       "3  [Forest Whitaker]   31357      [Comedy, Drama, Romance]   \n",
       "4    [Charles Shyer]   11862                      [Comedy]   \n",
       "\n",
       "                original_title  \\\n",
       "0                    Toy Story   \n",
       "1                      Jumanji   \n",
       "2             Grumpier Old Men   \n",
       "3            Waiting to Exhale   \n",
       "4  Father of the Bride Part II   \n",
       "\n",
       "                                            overview release_date  \\\n",
       "0  [Led, by, Woody,, Andy's, toys, live, happily,...   30-10-1995   \n",
       "1  [When, siblings, Judy, and, Peter, discover, a...   15-12-1995   \n",
       "2  [A, family, wedding, reignites, the, ancient, ...   22-12-1995   \n",
       "3  [Cheated, on,, mistreated, and, stepped, on,, ...   22-12-1995   \n",
       "4  [Just, when, George, Banks, has, recovered, fr...   10-02-1995   \n",
       "\n",
       "                         title  \\\n",
       "0                    Toy Story   \n",
       "1                      Jumanji   \n",
       "2             Grumpier Old Men   \n",
       "3            Waiting to Exhale   \n",
       "4  Father of the Bride Part II   \n",
       "\n",
       "                                            keywords  \\\n",
       "0  [jealousy, toy, boy, friendship, friends, riva...   \n",
       "1  [board game, disappearance, based on children'...   \n",
       "2  [fishing, best friend, duringcreditsstinger, o...   \n",
       "3  [based on novel, interracial relationship, sin...   \n",
       "4  [baby, midlife crisis, confidence, aging, daug...   \n",
       "\n",
       "                                           top3_cast  \\\n",
       "0                [Tom Hanks, Tim Allen, Don Rickles]   \n",
       "1     [Robin Williams, Jonathan Hyde, Kirsten Dunst]   \n",
       "2         [Walter Matthau, Jack Lemmon, Ann-Margret]   \n",
       "3  [Whitney Houston, Angela Bassett, Loretta Devine]   \n",
       "4         [Steve Martin, Diane Keaton, Martin Short]   \n",
       "\n",
       "                                                tags  \n",
       "0  [Led, by, Woody,, Andy's, toys, live, happily,...  \n",
       "1  [When, siblings, Judy, and, Peter, discover, a...  \n",
       "2  [A, family, wedding, reignites, the, ancient, ...  \n",
       "3  [Cheated, on,, mistreated, and, stepped, on,, ...  \n",
       "4  [Just, when, George, Banks, has, recovered, fr...  "
      ]
     },
     "execution_count": 51,
     "metadata": {},
     "output_type": "execute_result"
    }
   ],
   "source": [
    "up_df.head()"
   ]
  },
  {
   "cell_type": "code",
   "execution_count": 52,
   "metadata": {},
   "outputs": [
    {
     "data": {
      "text/html": [
       "<div>\n",
       "<style scoped>\n",
       "    .dataframe tbody tr th:only-of-type {\n",
       "        vertical-align: middle;\n",
       "    }\n",
       "\n",
       "    .dataframe tbody tr th {\n",
       "        vertical-align: top;\n",
       "    }\n",
       "\n",
       "    .dataframe thead th {\n",
       "        text-align: right;\n",
       "    }\n",
       "</style>\n",
       "<table border=\"1\" class=\"dataframe\">\n",
       "  <thead>\n",
       "    <tr style=\"text-align: right;\">\n",
       "      <th></th>\n",
       "      <th>crew</th>\n",
       "      <th>movieid</th>\n",
       "      <th>genres</th>\n",
       "      <th>original_title</th>\n",
       "      <th>overview</th>\n",
       "      <th>release_date</th>\n",
       "      <th>title</th>\n",
       "      <th>keywords</th>\n",
       "      <th>top3_cast</th>\n",
       "      <th>tags</th>\n",
       "    </tr>\n",
       "  </thead>\n",
       "  <tbody>\n",
       "    <tr>\n",
       "      <th>0</th>\n",
       "      <td>[John Lasseter]</td>\n",
       "      <td>862</td>\n",
       "      <td>[Animation, Comedy, Family]</td>\n",
       "      <td>Toy Story</td>\n",
       "      <td>[Led, by, Woody,, Andy's, toys, live, happily,...</td>\n",
       "      <td>30-10-1995</td>\n",
       "      <td>Toy Story</td>\n",
       "      <td>[jealousy, toy, boy, friendship, friends, riva...</td>\n",
       "      <td>[Tom Hanks, Tim Allen, Don Rickles]</td>\n",
       "      <td>Led by Woody, Andy's toys live happily in his ...</td>\n",
       "    </tr>\n",
       "    <tr>\n",
       "      <th>1</th>\n",
       "      <td>[Joe Johnston]</td>\n",
       "      <td>8844</td>\n",
       "      <td>[Adventure, Fantasy, Family]</td>\n",
       "      <td>Jumanji</td>\n",
       "      <td>[When, siblings, Judy, and, Peter, discover, a...</td>\n",
       "      <td>15-12-1995</td>\n",
       "      <td>Jumanji</td>\n",
       "      <td>[board game, disappearance, based on children'...</td>\n",
       "      <td>[Robin Williams, Jonathan Hyde, Kirsten Dunst]</td>\n",
       "      <td>When siblings Judy and Peter discover an encha...</td>\n",
       "    </tr>\n",
       "    <tr>\n",
       "      <th>2</th>\n",
       "      <td>[Howard Deutch]</td>\n",
       "      <td>15602</td>\n",
       "      <td>[Romance, Comedy]</td>\n",
       "      <td>Grumpier Old Men</td>\n",
       "      <td>[A, family, wedding, reignites, the, ancient, ...</td>\n",
       "      <td>22-12-1995</td>\n",
       "      <td>Grumpier Old Men</td>\n",
       "      <td>[fishing, best friend, duringcreditsstinger, o...</td>\n",
       "      <td>[Walter Matthau, Jack Lemmon, Ann-Margret]</td>\n",
       "      <td>A family wedding reignites the ancient feud be...</td>\n",
       "    </tr>\n",
       "    <tr>\n",
       "      <th>3</th>\n",
       "      <td>[Forest Whitaker]</td>\n",
       "      <td>31357</td>\n",
       "      <td>[Comedy, Drama, Romance]</td>\n",
       "      <td>Waiting to Exhale</td>\n",
       "      <td>[Cheated, on,, mistreated, and, stepped, on,, ...</td>\n",
       "      <td>22-12-1995</td>\n",
       "      <td>Waiting to Exhale</td>\n",
       "      <td>[based on novel, interracial relationship, sin...</td>\n",
       "      <td>[Whitney Houston, Angela Bassett, Loretta Devine]</td>\n",
       "      <td>Cheated on, mistreated and stepped on, the wom...</td>\n",
       "    </tr>\n",
       "    <tr>\n",
       "      <th>4</th>\n",
       "      <td>[Charles Shyer]</td>\n",
       "      <td>11862</td>\n",
       "      <td>[Comedy]</td>\n",
       "      <td>Father of the Bride Part II</td>\n",
       "      <td>[Just, when, George, Banks, has, recovered, fr...</td>\n",
       "      <td>10-02-1995</td>\n",
       "      <td>Father of the Bride Part II</td>\n",
       "      <td>[baby, midlife crisis, confidence, aging, daug...</td>\n",
       "      <td>[Steve Martin, Diane Keaton, Martin Short]</td>\n",
       "      <td>Just when George Banks has recovered from his ...</td>\n",
       "    </tr>\n",
       "  </tbody>\n",
       "</table>\n",
       "</div>"
      ],
      "text/plain": [
       "                crew movieid                        genres  \\\n",
       "0    [John Lasseter]     862   [Animation, Comedy, Family]   \n",
       "1     [Joe Johnston]    8844  [Adventure, Fantasy, Family]   \n",
       "2    [Howard Deutch]   15602             [Romance, Comedy]   \n",
       "3  [Forest Whitaker]   31357      [Comedy, Drama, Romance]   \n",
       "4    [Charles Shyer]   11862                      [Comedy]   \n",
       "\n",
       "                original_title  \\\n",
       "0                    Toy Story   \n",
       "1                      Jumanji   \n",
       "2             Grumpier Old Men   \n",
       "3            Waiting to Exhale   \n",
       "4  Father of the Bride Part II   \n",
       "\n",
       "                                            overview release_date  \\\n",
       "0  [Led, by, Woody,, Andy's, toys, live, happily,...   30-10-1995   \n",
       "1  [When, siblings, Judy, and, Peter, discover, a...   15-12-1995   \n",
       "2  [A, family, wedding, reignites, the, ancient, ...   22-12-1995   \n",
       "3  [Cheated, on,, mistreated, and, stepped, on,, ...   22-12-1995   \n",
       "4  [Just, when, George, Banks, has, recovered, fr...   10-02-1995   \n",
       "\n",
       "                         title  \\\n",
       "0                    Toy Story   \n",
       "1                      Jumanji   \n",
       "2             Grumpier Old Men   \n",
       "3            Waiting to Exhale   \n",
       "4  Father of the Bride Part II   \n",
       "\n",
       "                                            keywords  \\\n",
       "0  [jealousy, toy, boy, friendship, friends, riva...   \n",
       "1  [board game, disappearance, based on children'...   \n",
       "2  [fishing, best friend, duringcreditsstinger, o...   \n",
       "3  [based on novel, interracial relationship, sin...   \n",
       "4  [baby, midlife crisis, confidence, aging, daug...   \n",
       "\n",
       "                                           top3_cast  \\\n",
       "0                [Tom Hanks, Tim Allen, Don Rickles]   \n",
       "1     [Robin Williams, Jonathan Hyde, Kirsten Dunst]   \n",
       "2         [Walter Matthau, Jack Lemmon, Ann-Margret]   \n",
       "3  [Whitney Houston, Angela Bassett, Loretta Devine]   \n",
       "4         [Steve Martin, Diane Keaton, Martin Short]   \n",
       "\n",
       "                                                tags  \n",
       "0  Led by Woody, Andy's toys live happily in his ...  \n",
       "1  When siblings Judy and Peter discover an encha...  \n",
       "2  A family wedding reignites the ancient feud be...  \n",
       "3  Cheated on, mistreated and stepped on, the wom...  \n",
       "4  Just when George Banks has recovered from his ...  "
      ]
     },
     "execution_count": 52,
     "metadata": {},
     "output_type": "execute_result"
    }
   ],
   "source": [
    "up_df['tags'] = up_df['tags'].apply(lambda x: \" \".join(x))\n",
    "up_df.head()"
   ]
  },
  {
   "cell_type": "code",
   "execution_count": 53,
   "metadata": {},
   "outputs": [],
   "source": [
    "new_df = up_df[[  'movieid', 'title',  'tags']]\n"
   ]
  },
  {
   "cell_type": "code",
   "execution_count": 54,
   "metadata": {},
   "outputs": [
    {
     "data": {
      "text/html": [
       "<div>\n",
       "<style scoped>\n",
       "    .dataframe tbody tr th:only-of-type {\n",
       "        vertical-align: middle;\n",
       "    }\n",
       "\n",
       "    .dataframe tbody tr th {\n",
       "        vertical-align: top;\n",
       "    }\n",
       "\n",
       "    .dataframe thead th {\n",
       "        text-align: right;\n",
       "    }\n",
       "</style>\n",
       "<table border=\"1\" class=\"dataframe\">\n",
       "  <thead>\n",
       "    <tr style=\"text-align: right;\">\n",
       "      <th></th>\n",
       "      <th>movieid</th>\n",
       "      <th>title</th>\n",
       "      <th>tags</th>\n",
       "    </tr>\n",
       "  </thead>\n",
       "  <tbody>\n",
       "    <tr>\n",
       "      <th>0</th>\n",
       "      <td>862</td>\n",
       "      <td>Toy Story</td>\n",
       "      <td>Led by Woody, Andy's toys live happily in his ...</td>\n",
       "    </tr>\n",
       "    <tr>\n",
       "      <th>1</th>\n",
       "      <td>8844</td>\n",
       "      <td>Jumanji</td>\n",
       "      <td>When siblings Judy and Peter discover an encha...</td>\n",
       "    </tr>\n",
       "    <tr>\n",
       "      <th>2</th>\n",
       "      <td>15602</td>\n",
       "      <td>Grumpier Old Men</td>\n",
       "      <td>A family wedding reignites the ancient feud be...</td>\n",
       "    </tr>\n",
       "    <tr>\n",
       "      <th>3</th>\n",
       "      <td>31357</td>\n",
       "      <td>Waiting to Exhale</td>\n",
       "      <td>Cheated on, mistreated and stepped on, the wom...</td>\n",
       "    </tr>\n",
       "    <tr>\n",
       "      <th>4</th>\n",
       "      <td>11862</td>\n",
       "      <td>Father of the Bride Part II</td>\n",
       "      <td>Just when George Banks has recovered from his ...</td>\n",
       "    </tr>\n",
       "  </tbody>\n",
       "</table>\n",
       "</div>"
      ],
      "text/plain": [
       "  movieid                        title  \\\n",
       "0     862                    Toy Story   \n",
       "1    8844                      Jumanji   \n",
       "2   15602             Grumpier Old Men   \n",
       "3   31357            Waiting to Exhale   \n",
       "4   11862  Father of the Bride Part II   \n",
       "\n",
       "                                                tags  \n",
       "0  Led by Woody, Andy's toys live happily in his ...  \n",
       "1  When siblings Judy and Peter discover an encha...  \n",
       "2  A family wedding reignites the ancient feud be...  \n",
       "3  Cheated on, mistreated and stepped on, the wom...  \n",
       "4  Just when George Banks has recovered from his ...  "
      ]
     },
     "execution_count": 54,
     "metadata": {},
     "output_type": "execute_result"
    }
   ],
   "source": [
    "new_df.head()"
   ]
  },
  {
   "cell_type": "code",
   "execution_count": 55,
   "metadata": {},
   "outputs": [
    {
     "data": {
      "text/plain": [
       "(45530, 3)"
      ]
     },
     "execution_count": 55,
     "metadata": {},
     "output_type": "execute_result"
    }
   ],
   "source": [
    "new_df.shape"
   ]
  },
  {
   "cell_type": "code",
   "execution_count": 56,
   "metadata": {},
   "outputs": [
    {
     "name": "stderr",
     "output_type": "stream",
     "text": [
      "C:\\Users\\mahes\\AppData\\Local\\Temp\\ipykernel_9916\\3214958533.py:1: SettingWithCopyWarning: \n",
      "A value is trying to be set on a copy of a slice from a DataFrame.\n",
      "Try using .loc[row_indexer,col_indexer] = value instead\n",
      "\n",
      "See the caveats in the documentation: https://pandas.pydata.org/pandas-docs/stable/user_guide/indexing.html#returning-a-view-versus-a-copy\n",
      "  new_df['tags'] = new_df['tags'].apply(lambda x:x.lower())\n"
     ]
    }
   ],
   "source": [
    "new_df['tags'] = new_df['tags'].apply(lambda x:x.lower())"
   ]
  },
  {
   "cell_type": "code",
   "execution_count": 57,
   "metadata": {},
   "outputs": [
    {
     "name": "stderr",
     "output_type": "stream",
     "text": [
      "C:\\Users\\mahes\\AppData\\Local\\Temp\\ipykernel_9916\\1131642681.py:1: SettingWithCopyWarning: \n",
      "A value is trying to be set on a copy of a slice from a DataFrame.\n",
      "Try using .loc[row_indexer,col_indexer] = value instead\n",
      "\n",
      "See the caveats in the documentation: https://pandas.pydata.org/pandas-docs/stable/user_guide/indexing.html#returning-a-view-versus-a-copy\n",
      "  new_df['title'] = new_df['title'].apply(lambda x:x.lower())\n"
     ]
    }
   ],
   "source": [
    "new_df['title'] = new_df['title'].apply(lambda x:x.lower())"
   ]
  },
  {
   "cell_type": "code",
   "execution_count": 58,
   "metadata": {},
   "outputs": [
    {
     "data": {
      "text/html": [
       "<div>\n",
       "<style scoped>\n",
       "    .dataframe tbody tr th:only-of-type {\n",
       "        vertical-align: middle;\n",
       "    }\n",
       "\n",
       "    .dataframe tbody tr th {\n",
       "        vertical-align: top;\n",
       "    }\n",
       "\n",
       "    .dataframe thead th {\n",
       "        text-align: right;\n",
       "    }\n",
       "</style>\n",
       "<table border=\"1\" class=\"dataframe\">\n",
       "  <thead>\n",
       "    <tr style=\"text-align: right;\">\n",
       "      <th></th>\n",
       "      <th>movieid</th>\n",
       "      <th>title</th>\n",
       "      <th>tags</th>\n",
       "    </tr>\n",
       "  </thead>\n",
       "  <tbody>\n",
       "    <tr>\n",
       "      <th>0</th>\n",
       "      <td>862</td>\n",
       "      <td>toy story</td>\n",
       "      <td>led by woody, andy's toys live happily in his ...</td>\n",
       "    </tr>\n",
       "    <tr>\n",
       "      <th>1</th>\n",
       "      <td>8844</td>\n",
       "      <td>jumanji</td>\n",
       "      <td>when siblings judy and peter discover an encha...</td>\n",
       "    </tr>\n",
       "    <tr>\n",
       "      <th>2</th>\n",
       "      <td>15602</td>\n",
       "      <td>grumpier old men</td>\n",
       "      <td>a family wedding reignites the ancient feud be...</td>\n",
       "    </tr>\n",
       "    <tr>\n",
       "      <th>3</th>\n",
       "      <td>31357</td>\n",
       "      <td>waiting to exhale</td>\n",
       "      <td>cheated on, mistreated and stepped on, the wom...</td>\n",
       "    </tr>\n",
       "    <tr>\n",
       "      <th>4</th>\n",
       "      <td>11862</td>\n",
       "      <td>father of the bride part ii</td>\n",
       "      <td>just when george banks has recovered from his ...</td>\n",
       "    </tr>\n",
       "  </tbody>\n",
       "</table>\n",
       "</div>"
      ],
      "text/plain": [
       "  movieid                        title  \\\n",
       "0     862                    toy story   \n",
       "1    8844                      jumanji   \n",
       "2   15602             grumpier old men   \n",
       "3   31357            waiting to exhale   \n",
       "4   11862  father of the bride part ii   \n",
       "\n",
       "                                                tags  \n",
       "0  led by woody, andy's toys live happily in his ...  \n",
       "1  when siblings judy and peter discover an encha...  \n",
       "2  a family wedding reignites the ancient feud be...  \n",
       "3  cheated on, mistreated and stepped on, the wom...  \n",
       "4  just when george banks has recovered from his ...  "
      ]
     },
     "execution_count": 58,
     "metadata": {},
     "output_type": "execute_result"
    }
   ],
   "source": [
    "new_df.shape\n",
    "new_df.head()"
   ]
  },
  {
   "cell_type": "code",
   "execution_count": 59,
   "metadata": {},
   "outputs": [
    {
     "data": {
      "text/plain": [
       "(45530, 3)"
      ]
     },
     "execution_count": 59,
     "metadata": {},
     "output_type": "execute_result"
    }
   ],
   "source": [
    "new_df.shape"
   ]
  },
  {
   "cell_type": "code",
   "execution_count": 60,
   "metadata": {},
   "outputs": [
    {
     "name": "stderr",
     "output_type": "stream",
     "text": [
      "[nltk_data] Downloading package punkt to\n",
      "[nltk_data]     C:\\Users\\mahes\\AppData\\Roaming\\nltk_data...\n",
      "[nltk_data]   Package punkt is already up-to-date!\n",
      "[nltk_data] Downloading package wordnet to\n",
      "[nltk_data]     C:\\Users\\mahes\\AppData\\Roaming\\nltk_data...\n",
      "[nltk_data]   Package wordnet is already up-to-date!\n"
     ]
    }
   ],
   "source": [
    "import nltk\n",
    "from nltk.stem import WordNetLemmatizer\n",
    "from nltk.tokenize import word_tokenize\n",
    "nltk.download('punkt')\n",
    "nltk.download('wordnet')\n",
    "\n",
    "lemmatizer = WordNetLemmatizer()\n",
    "\n",
    "def lemmatize(text):\n",
    "    words = word_tokenize(text)\n",
    "    lemmatized_words = [lemmatizer.lemmatize(word) for word in words]\n",
    "    return \" \".join(lemmatized_words)\n",
    "\n"
   ]
  },
  {
   "cell_type": "code",
   "execution_count": 61,
   "metadata": {},
   "outputs": [
    {
     "name": "stderr",
     "output_type": "stream",
     "text": [
      "C:\\Users\\mahes\\AppData\\Local\\Temp\\ipykernel_9916\\3116468697.py:1: SettingWithCopyWarning: \n",
      "A value is trying to be set on a copy of a slice from a DataFrame.\n",
      "Try using .loc[row_indexer,col_indexer] = value instead\n",
      "\n",
      "See the caveats in the documentation: https://pandas.pydata.org/pandas-docs/stable/user_guide/indexing.html#returning-a-view-versus-a-copy\n",
      "  new_df['tags'] = new_df['tags'].apply(lemmatize)\n"
     ]
    }
   ],
   "source": [
    "new_df['tags'] = new_df['tags'].apply(lemmatize)"
   ]
  },
  {
   "cell_type": "code",
   "execution_count": 62,
   "metadata": {},
   "outputs": [
    {
     "data": {
      "text/html": [
       "<div>\n",
       "<style scoped>\n",
       "    .dataframe tbody tr th:only-of-type {\n",
       "        vertical-align: middle;\n",
       "    }\n",
       "\n",
       "    .dataframe tbody tr th {\n",
       "        vertical-align: top;\n",
       "    }\n",
       "\n",
       "    .dataframe thead th {\n",
       "        text-align: right;\n",
       "    }\n",
       "</style>\n",
       "<table border=\"1\" class=\"dataframe\">\n",
       "  <thead>\n",
       "    <tr style=\"text-align: right;\">\n",
       "      <th></th>\n",
       "      <th>movieid</th>\n",
       "      <th>title</th>\n",
       "      <th>tags</th>\n",
       "    </tr>\n",
       "  </thead>\n",
       "  <tbody>\n",
       "    <tr>\n",
       "      <th>0</th>\n",
       "      <td>862</td>\n",
       "      <td>toy story</td>\n",
       "      <td>led by woody , andy 's toy live happily in his...</td>\n",
       "    </tr>\n",
       "    <tr>\n",
       "      <th>1</th>\n",
       "      <td>8844</td>\n",
       "      <td>jumanji</td>\n",
       "      <td>when sibling judy and peter discover an enchan...</td>\n",
       "    </tr>\n",
       "    <tr>\n",
       "      <th>2</th>\n",
       "      <td>15602</td>\n",
       "      <td>grumpier old men</td>\n",
       "      <td>a family wedding reignites the ancient feud be...</td>\n",
       "    </tr>\n",
       "    <tr>\n",
       "      <th>3</th>\n",
       "      <td>31357</td>\n",
       "      <td>waiting to exhale</td>\n",
       "      <td>cheated on , mistreated and stepped on , the w...</td>\n",
       "    </tr>\n",
       "    <tr>\n",
       "      <th>4</th>\n",
       "      <td>11862</td>\n",
       "      <td>father of the bride part ii</td>\n",
       "      <td>just when george bank ha recovered from his da...</td>\n",
       "    </tr>\n",
       "  </tbody>\n",
       "</table>\n",
       "</div>"
      ],
      "text/plain": [
       "  movieid                        title  \\\n",
       "0     862                    toy story   \n",
       "1    8844                      jumanji   \n",
       "2   15602             grumpier old men   \n",
       "3   31357            waiting to exhale   \n",
       "4   11862  father of the bride part ii   \n",
       "\n",
       "                                                tags  \n",
       "0  led by woody , andy 's toy live happily in his...  \n",
       "1  when sibling judy and peter discover an enchan...  \n",
       "2  a family wedding reignites the ancient feud be...  \n",
       "3  cheated on , mistreated and stepped on , the w...  \n",
       "4  just when george bank ha recovered from his da...  "
      ]
     },
     "execution_count": 62,
     "metadata": {},
     "output_type": "execute_result"
    }
   ],
   "source": [
    "new_df.head()"
   ]
  },
  {
   "cell_type": "code",
   "execution_count": 63,
   "metadata": {},
   "outputs": [],
   "source": [
    "import re\n",
    "\n",
    "def remove_noise(text):\n",
    "    # Remove HTML tags\n",
    "    text = re.sub(r'<.*?>', '', text)\n",
    "    \n",
    "    # Remove punctuation and other non-alphabetic characters\n",
    "    text = re.sub(r'[^a-zA-Z\\s]', '', text)\n",
    "    \n",
    "    return text\n",
    "\n",
    "\n"
   ]
  },
  {
   "cell_type": "code",
   "execution_count": 64,
   "metadata": {},
   "outputs": [
    {
     "name": "stderr",
     "output_type": "stream",
     "text": [
      "C:\\Users\\mahes\\AppData\\Local\\Temp\\ipykernel_9916\\3968079408.py:1: SettingWithCopyWarning: \n",
      "A value is trying to be set on a copy of a slice from a DataFrame.\n",
      "Try using .loc[row_indexer,col_indexer] = value instead\n",
      "\n",
      "See the caveats in the documentation: https://pandas.pydata.org/pandas-docs/stable/user_guide/indexing.html#returning-a-view-versus-a-copy\n",
      "  new_df['tags'] = new_df['tags'].apply(remove_noise)\n"
     ]
    }
   ],
   "source": [
    "new_df['tags'] = new_df['tags'].apply(remove_noise)"
   ]
  },
  {
   "cell_type": "code",
   "execution_count": 65,
   "metadata": {},
   "outputs": [
    {
     "name": "stderr",
     "output_type": "stream",
     "text": [
      "[nltk_data] Downloading package stopwords to\n",
      "[nltk_data]     C:\\Users\\mahes\\AppData\\Roaming\\nltk_data...\n",
      "[nltk_data]   Package stopwords is already up-to-date!\n",
      "[nltk_data] Downloading package punkt to\n",
      "[nltk_data]     C:\\Users\\mahes\\AppData\\Roaming\\nltk_data...\n",
      "[nltk_data]   Package punkt is already up-to-date!\n"
     ]
    }
   ],
   "source": [
    "from nltk.corpus import stopwords\n",
    "from nltk.tokenize import word_tokenize\n",
    "nltk.download('stopwords')\n",
    "nltk.download('punkt')\n",
    "\n",
    "def remove_stopwords(text):\n",
    "    stop_words = set(stopwords.words('english'))\n",
    "    words = word_tokenize(text)\n",
    "    filtered_words = [word for word in words if word.lower() not in stop_words]\n",
    "    return \" \".join(filtered_words)\n",
    "\n"
   ]
  },
  {
   "cell_type": "code",
   "execution_count": 66,
   "metadata": {},
   "outputs": [
    {
     "name": "stderr",
     "output_type": "stream",
     "text": [
      "C:\\Users\\mahes\\AppData\\Local\\Temp\\ipykernel_9916\\173525116.py:1: SettingWithCopyWarning: \n",
      "A value is trying to be set on a copy of a slice from a DataFrame.\n",
      "Try using .loc[row_indexer,col_indexer] = value instead\n",
      "\n",
      "See the caveats in the documentation: https://pandas.pydata.org/pandas-docs/stable/user_guide/indexing.html#returning-a-view-versus-a-copy\n",
      "  new_df['tags'] = new_df['tags'].apply(remove_stopwords)\n"
     ]
    }
   ],
   "source": [
    "new_df['tags'] = new_df['tags'].apply(remove_stopwords)"
   ]
  },
  {
   "cell_type": "code",
   "execution_count": 67,
   "metadata": {},
   "outputs": [
    {
     "data": {
      "text/html": [
       "<div>\n",
       "<style scoped>\n",
       "    .dataframe tbody tr th:only-of-type {\n",
       "        vertical-align: middle;\n",
       "    }\n",
       "\n",
       "    .dataframe tbody tr th {\n",
       "        vertical-align: top;\n",
       "    }\n",
       "\n",
       "    .dataframe thead th {\n",
       "        text-align: right;\n",
       "    }\n",
       "</style>\n",
       "<table border=\"1\" class=\"dataframe\">\n",
       "  <thead>\n",
       "    <tr style=\"text-align: right;\">\n",
       "      <th></th>\n",
       "      <th>movieid</th>\n",
       "      <th>title</th>\n",
       "      <th>tags</th>\n",
       "    </tr>\n",
       "  </thead>\n",
       "  <tbody>\n",
       "    <tr>\n",
       "      <th>0</th>\n",
       "      <td>862</td>\n",
       "      <td>toy story</td>\n",
       "      <td>led woody andy toy live happily room andy birt...</td>\n",
       "    </tr>\n",
       "    <tr>\n",
       "      <th>1</th>\n",
       "      <td>8844</td>\n",
       "      <td>jumanji</td>\n",
       "      <td>sibling judy peter discover enchanted board ga...</td>\n",
       "    </tr>\n",
       "    <tr>\n",
       "      <th>2</th>\n",
       "      <td>15602</td>\n",
       "      <td>grumpier old men</td>\n",
       "      <td>family wedding reignites ancient feud nextdoor...</td>\n",
       "    </tr>\n",
       "    <tr>\n",
       "      <th>3</th>\n",
       "      <td>31357</td>\n",
       "      <td>waiting to exhale</td>\n",
       "      <td>cheated mistreated stepped woman holding breat...</td>\n",
       "    </tr>\n",
       "    <tr>\n",
       "      <th>4</th>\n",
       "      <td>11862</td>\n",
       "      <td>father of the bride part ii</td>\n",
       "      <td>george bank ha recovered daughter wedding rece...</td>\n",
       "    </tr>\n",
       "  </tbody>\n",
       "</table>\n",
       "</div>"
      ],
      "text/plain": [
       "  movieid                        title  \\\n",
       "0     862                    toy story   \n",
       "1    8844                      jumanji   \n",
       "2   15602             grumpier old men   \n",
       "3   31357            waiting to exhale   \n",
       "4   11862  father of the bride part ii   \n",
       "\n",
       "                                                tags  \n",
       "0  led woody andy toy live happily room andy birt...  \n",
       "1  sibling judy peter discover enchanted board ga...  \n",
       "2  family wedding reignites ancient feud nextdoor...  \n",
       "3  cheated mistreated stepped woman holding breat...  \n",
       "4  george bank ha recovered daughter wedding rece...  "
      ]
     },
     "execution_count": 67,
     "metadata": {},
     "output_type": "execute_result"
    }
   ],
   "source": [
    "new_df.head()"
   ]
  },
  {
   "cell_type": "code",
   "execution_count": 68,
   "metadata": {},
   "outputs": [
    {
     "name": "stderr",
     "output_type": "stream",
     "text": [
      "C:\\Users\\mahes\\AppData\\Local\\Temp\\ipykernel_9916\\3842531888.py:13: SettingWithCopyWarning: \n",
      "A value is trying to be set on a copy of a slice from a DataFrame.\n",
      "Try using .loc[row_indexer,col_indexer] = value instead\n",
      "\n",
      "See the caveats in the documentation: https://pandas.pydata.org/pandas-docs/stable/user_guide/indexing.html#returning-a-view-versus-a-copy\n",
      "  new_df['tags'] = new_df['tags'].apply(lambda x: replace_negations(x) if isinstance(x, list) else x)\n"
     ]
    }
   ],
   "source": [
    "from nltk.corpus import wordnet\n",
    "from nltk.tokenize import word_tokenize\n",
    "\n",
    "def replace_negations(words):\n",
    "    for i in range(len(words)):\n",
    "        if words[i] == 'not' and i + 1 < len(words):\n",
    "            antonym = wordnet.morphy(words[i + 1], wordnet.ADJ)\n",
    "            if antonym:\n",
    "                words[i + 1] = antonym\n",
    "    return words\n",
    "\n",
    "# Apply the function to each row of the 'tags' column\n",
    "new_df['tags'] = new_df['tags'].apply(lambda x: replace_negations(x) if isinstance(x, list) else x)\n"
   ]
  },
  {
   "cell_type": "code",
   "execution_count": 69,
   "metadata": {},
   "outputs": [
    {
     "data": {
      "text/html": [
       "<div>\n",
       "<style scoped>\n",
       "    .dataframe tbody tr th:only-of-type {\n",
       "        vertical-align: middle;\n",
       "    }\n",
       "\n",
       "    .dataframe tbody tr th {\n",
       "        vertical-align: top;\n",
       "    }\n",
       "\n",
       "    .dataframe thead th {\n",
       "        text-align: right;\n",
       "    }\n",
       "</style>\n",
       "<table border=\"1\" class=\"dataframe\">\n",
       "  <thead>\n",
       "    <tr style=\"text-align: right;\">\n",
       "      <th></th>\n",
       "      <th>movieid</th>\n",
       "      <th>title</th>\n",
       "      <th>tags</th>\n",
       "    </tr>\n",
       "  </thead>\n",
       "  <tbody>\n",
       "    <tr>\n",
       "      <th>0</th>\n",
       "      <td>862</td>\n",
       "      <td>toy story</td>\n",
       "      <td>led woody andy toy live happily room andy birt...</td>\n",
       "    </tr>\n",
       "    <tr>\n",
       "      <th>1</th>\n",
       "      <td>8844</td>\n",
       "      <td>jumanji</td>\n",
       "      <td>sibling judy peter discover enchanted board ga...</td>\n",
       "    </tr>\n",
       "    <tr>\n",
       "      <th>2</th>\n",
       "      <td>15602</td>\n",
       "      <td>grumpier old men</td>\n",
       "      <td>family wedding reignites ancient feud nextdoor...</td>\n",
       "    </tr>\n",
       "    <tr>\n",
       "      <th>3</th>\n",
       "      <td>31357</td>\n",
       "      <td>waiting to exhale</td>\n",
       "      <td>cheated mistreated stepped woman holding breat...</td>\n",
       "    </tr>\n",
       "    <tr>\n",
       "      <th>4</th>\n",
       "      <td>11862</td>\n",
       "      <td>father of the bride part ii</td>\n",
       "      <td>george bank ha recovered daughter wedding rece...</td>\n",
       "    </tr>\n",
       "  </tbody>\n",
       "</table>\n",
       "</div>"
      ],
      "text/plain": [
       "  movieid                        title  \\\n",
       "0     862                    toy story   \n",
       "1    8844                      jumanji   \n",
       "2   15602             grumpier old men   \n",
       "3   31357            waiting to exhale   \n",
       "4   11862  father of the bride part ii   \n",
       "\n",
       "                                                tags  \n",
       "0  led woody andy toy live happily room andy birt...  \n",
       "1  sibling judy peter discover enchanted board ga...  \n",
       "2  family wedding reignites ancient feud nextdoor...  \n",
       "3  cheated mistreated stepped woman holding breat...  \n",
       "4  george bank ha recovered daughter wedding rece...  "
      ]
     },
     "execution_count": 69,
     "metadata": {},
     "output_type": "execute_result"
    }
   ],
   "source": [
    "new_df.head()"
   ]
  },
  {
   "cell_type": "code",
   "execution_count": 71,
   "metadata": {},
   "outputs": [
    {
     "name": "stdout",
     "output_type": "stream",
     "text": [
      "Recommended Movies:\n",
      "batman & robin (Distance: 0.7018096474719617)\n",
      "batman returns (Distance: 0.8070381840097557)\n",
      "lego dc comics super heroes: justice league - gotham city breakout (Distance: 0.8271933372086729)\n",
      "batman begins (Distance: 0.8370861292264927)\n",
      "batman beyond: return of the joker (Distance: 0.8372149285548853)\n"
     ]
    }
   ],
   "source": [
    "import pandas as pd\n",
    "from sklearn.feature_extraction.text import TfidfVectorizer\n",
    "from sklearn.neighbors import NearestNeighbors\n",
    "from scipy.sparse import issparse\n",
    "\n",
    "# Assuming you have a DataFrame 'new_df' with columns 'title' and 'tags'\n",
    "# Replace 'tags' with the actual column name containing your text data\n",
    "\n",
    "# Step 1: Create a TfidfVectorizer and transform the text data\n",
    "vectorizer = TfidfVectorizer(ngram_range=(1, 2))\n",
    "tfidf = vectorizer.fit_transform(new_df[\"tags\"])\n",
    "\n",
    "# Step 2: Convert TF-IDF matrix to CSR format if not already sparse\n",
    "if not issparse(tfidf):\n",
    "    tfidf = tfidf.tocsr()\n",
    "\n",
    "# Step 3: Initialize the NearestNeighbors model\n",
    "nn_model = NearestNeighbors(metric='cosine', algorithm='brute')\n",
    "nn_model.fit(tfidf)\n",
    "\n",
    "# Function to recommend movies based on input movie title\n",
    "def movie_recommender(movie_title, k=5):\n",
    "    # Find index of the input movie in the DataFrame\n",
    "    movie_index = new_df[new_df['title'] == movie_title].index[0]\n",
    "    \n",
    "    # Get the TF-IDF vector of the input movie\n",
    "    movie_tfidf = tfidf[movie_index]\n",
    "    \n",
    "    # Find k nearest neighbors to the input movie\n",
    "    distances, indices = nn_model.kneighbors(movie_tfidf, n_neighbors=k+1)  # +1 to exclude itself\n",
    "    \n",
    "    # Exclude the input movie itself from recommendations\n",
    "    indices = indices.flatten()[1:]\n",
    "    distances = distances.flatten()[1:]\n",
    "    \n",
    "    # Get recommended movie titles based on indices\n",
    "    recommended_movies = new_df.iloc[indices]['title'].values\n",
    "    \n",
    "    # Return recommended movie titles and their distances\n",
    "    return recommended_movies, distances\n",
    "\n",
    "# Example usage:\n",
    "input_movie_title = \"batman\"\n",
    "recommended_movies, distances = movie_recommender(input_movie_title)\n",
    "\n",
    "print(\"Recommended Movies:\")\n",
    "for movie, distance in zip(recommended_movies, distances):\n",
    "    print(f\"{movie} (Distance: {distance})\")\n"
   ]
  }
 ],
 "metadata": {
  "kernelspec": {
   "display_name": "base",
   "language": "python",
   "name": "python3"
  },
  "language_info": {
   "codemirror_mode": {
    "name": "ipython",
    "version": 3
   },
   "file_extension": ".py",
   "mimetype": "text/x-python",
   "name": "python",
   "nbconvert_exporter": "python",
   "pygments_lexer": "ipython3",
   "version": "3.11.7"
  }
 },
 "nbformat": 4,
 "nbformat_minor": 2
}
